{
  "nbformat": 4,
  "nbformat_minor": 0,
  "metadata": {
    "colab": {
      "name": "Julia on Colab.ipynb",
      "provenance": [],
      "collapsed_sections": [
        "y3fQT5o--txn",
        "yQoXUG9dE-OU",
        "mhD0p6aQHgPR",
        "AtutLZalLjXi"
      ],
      "include_colab_link": true
    },
    "kernelspec": {
      "name": "julia-1.4",
      "display_name": "Julia 1.4"
    },
    "accelerator": "GPU"
  },
  "cells": [
    {
      "cell_type": "markdown",
      "metadata": {
        "id": "view-in-github",
        "colab_type": "text"
      },
      "source": [
        "<a href=\"https://colab.research.google.com/github/olidew1/Test/blob/master/Julia_on_Colab.ipynb\" target=\"_parent\"><img src=\"https://colab.research.google.com/assets/colab-badge.svg\" alt=\"Open In Colab\"/></a>"
      ]
    },
    {
      "cell_type": "markdown",
      "metadata": {
        "id": "y3fQT5o--txn",
        "colab_type": "text"
      },
      "source": [
        "# Install CUDA"
      ]
    },
    {
      "cell_type": "code",
      "metadata": {
        "id": "h7lbKJvm-SLG",
        "colab_type": "code",
        "outputId": "8ff41aa4-c33d-4dac-8ac5-8e53ae4353d0",
        "colab": {
          "base_uri": "https://localhost:8080/",
          "height": 309
        }
      },
      "source": [
        "!wget https://developer.nvidia.com/compute/cuda/9.2/Prod/local_installers/cuda-repo-ubuntu1710-9-2-local_9.2.88-1_amd64"
      ],
      "execution_count": 1,
      "outputs": [
        {
          "output_type": "stream",
          "text": [
            "--2020-06-06 20:37:11--  https://developer.nvidia.com/compute/cuda/9.2/Prod/local_installers/cuda-repo-ubuntu1710-9-2-local_9.2.88-1_amd64\n",
            "Resolving developer.nvidia.com (developer.nvidia.com)... 152.199.16.29\n",
            "Connecting to developer.nvidia.com (developer.nvidia.com)|152.199.16.29|:443... connected.\n",
            "HTTP request sent, awaiting response... 302 Found\n",
            "Location: https://developer.download.nvidia.com/compute/cuda/9.2/secure/Prod/local_installers/cuda-repo-ubuntu1710-9-2-local_9.2.88-1_amd64.deb?huxaYzM5lA-jOiO-NXrt79J_CTM1ymblpM0gkgj7QLyTvLr95Ra_wwdhNqHojDIyFQHJgdIu6ZxNI_YLwDABNHr-iCwZehra_TMhXzirnFiSYETEKWNcm2eddHz9xTgSDC6fJ3rTUaYO5CzDmbrlZMYT71Nu5e-Ake8UCCPSJLtdH_2gmh2rU7wA6rjMNzDtqCukCu3gth7bX-ZL6gw [following]\n",
            "--2020-06-06 20:37:12--  https://developer.download.nvidia.com/compute/cuda/9.2/secure/Prod/local_installers/cuda-repo-ubuntu1710-9-2-local_9.2.88-1_amd64.deb?huxaYzM5lA-jOiO-NXrt79J_CTM1ymblpM0gkgj7QLyTvLr95Ra_wwdhNqHojDIyFQHJgdIu6ZxNI_YLwDABNHr-iCwZehra_TMhXzirnFiSYETEKWNcm2eddHz9xTgSDC6fJ3rTUaYO5CzDmbrlZMYT71Nu5e-Ake8UCCPSJLtdH_2gmh2rU7wA6rjMNzDtqCukCu3gth7bX-ZL6gw\n",
            "Resolving developer.download.nvidia.com (developer.download.nvidia.com)... 152.199.20.126\n",
            "Connecting to developer.download.nvidia.com (developer.download.nvidia.com)|152.199.20.126|:443... connected.\n",
            "HTTP request sent, awaiting response... 200 OK\n",
            "Length: 1269204396 (1.2G) [application/x-deb]\n",
            "Saving to: ‘cuda-repo-ubuntu1710-9-2-local_9.2.88-1_amd64’\n",
            "\n",
            "cuda-repo-ubuntu171 100%[===================>]   1.18G   243MB/s    in 5.1s    \n",
            "\n",
            "2020-06-06 20:37:17 (235 MB/s) - ‘cuda-repo-ubuntu1710-9-2-local_9.2.88-1_amd64’ saved [1269204396/1269204396]\n",
            "\n"
          ],
          "name": "stdout"
        }
      ]
    },
    {
      "cell_type": "code",
      "metadata": {
        "id": "xMcILMIABxgl",
        "colab_type": "code",
        "outputId": "6a40b1ae-6d19-45d0-d21f-5437e75d618e",
        "colab": {
          "base_uri": "https://localhost:8080/",
          "height": 309
        }
      },
      "source": [
        "!wget https://developer.nvidia.com/compute/cuda/9.2/Prod/patches/1/cuda-repo-ubuntu1710-9-2-local-cublas-update-1_1.0-1_amd64"
      ],
      "execution_count": 2,
      "outputs": [
        {
          "output_type": "stream",
          "text": [
            "--2020-06-06 20:37:21--  https://developer.nvidia.com/compute/cuda/9.2/Prod/patches/1/cuda-repo-ubuntu1710-9-2-local-cublas-update-1_1.0-1_amd64\n",
            "Resolving developer.nvidia.com (developer.nvidia.com)... 152.199.16.29\n",
            "Connecting to developer.nvidia.com (developer.nvidia.com)|152.199.16.29|:443... connected.\n",
            "HTTP request sent, awaiting response... 302 Found\n",
            "Location: https://developer.download.nvidia.com/compute/cuda/9.2/secure/Prod/patches/1/cuda-repo-ubuntu1710-9-2-local-cublas-update-1_1.0-1_amd64.deb?029IurYiLRk6H1Ey6pETzdPAt84mdBAnEFFa6OXOs96wpY7uRmwfkbo1EqO18SpKWAYT68wf9Nm9y-S-Fi0SsuKcG-mjSUy3uRaBmIheogTGxmdMR5o6WcxHbZPbumsa5tGzKTkIFmD7Yw2WoTDKvQ_Qw4vLLek0Uecp0o7q3MnP8vlA7IbSNoJu6ZiNscouEFuGQpeW6aLOcHBS-VPr2pzsH8s [following]\n",
            "--2020-06-06 20:37:22--  https://developer.download.nvidia.com/compute/cuda/9.2/secure/Prod/patches/1/cuda-repo-ubuntu1710-9-2-local-cublas-update-1_1.0-1_amd64.deb?029IurYiLRk6H1Ey6pETzdPAt84mdBAnEFFa6OXOs96wpY7uRmwfkbo1EqO18SpKWAYT68wf9Nm9y-S-Fi0SsuKcG-mjSUy3uRaBmIheogTGxmdMR5o6WcxHbZPbumsa5tGzKTkIFmD7Yw2WoTDKvQ_Qw4vLLek0Uecp0o7q3MnP8vlA7IbSNoJu6ZiNscouEFuGQpeW6aLOcHBS-VPr2pzsH8s\n",
            "Resolving developer.download.nvidia.com (developer.download.nvidia.com)... 152.199.20.126\n",
            "Connecting to developer.download.nvidia.com (developer.download.nvidia.com)|152.199.20.126|:443... connected.\n",
            "HTTP request sent, awaiting response... 200 OK\n",
            "Length: 98576578 (94M) [application/x-deb]\n",
            "Saving to: ‘cuda-repo-ubuntu1710-9-2-local-cublas-update-1_1.0-1_amd64’\n",
            "\n",
            "cuda-repo-ubuntu171 100%[===================>]  94.01M   233MB/s    in 0.4s    \n",
            "\n",
            "2020-06-06 20:37:23 (233 MB/s) - ‘cuda-repo-ubuntu1710-9-2-local-cublas-update-1_1.0-1_amd64’ saved [98576578/98576578]\n",
            "\n"
          ],
          "name": "stdout"
        }
      ]
    },
    {
      "cell_type": "code",
      "metadata": {
        "id": "L2s4pxq6Cn2b",
        "colab_type": "code",
        "outputId": "433fb0a4-bd0f-4b5a-9619-3658b4dc57c5",
        "colab": {
          "base_uri": "https://localhost:8080/",
          "height": 102
        }
      },
      "source": [
        "!dpkg -i cuda-repo-ubuntu1710-9-2-local_9.2.88-1_amd64"
      ],
      "execution_count": 3,
      "outputs": [
        {
          "output_type": "stream",
          "text": [
            "Selecting previously unselected package cuda-repo-ubuntu1710-9-2-local.\n",
            "(Reading database ... 144467 files and directories currently installed.)\n",
            "Preparing to unpack cuda-repo-ubuntu1710-9-2-local_9.2.88-1_amd64 ...\n",
            "Unpacking cuda-repo-ubuntu1710-9-2-local (9.2.88-1) ...\n",
            "Setting up cuda-repo-ubuntu1710-9-2-local (9.2.88-1) ...\n"
          ],
          "name": "stdout"
        }
      ]
    },
    {
      "cell_type": "code",
      "metadata": {
        "id": "Ox-rLzKqDQzw",
        "colab_type": "code",
        "outputId": "00d71c70-b5fd-4482-bb64-ce664be1919a",
        "colab": {
          "base_uri": "https://localhost:8080/",
          "height": 34
        }
      },
      "source": [
        "!apt-key add /var/cuda-repo-9-2-local/7fa2af80.pub"
      ],
      "execution_count": 4,
      "outputs": [
        {
          "output_type": "stream",
          "text": [
            "OK\n"
          ],
          "name": "stdout"
        }
      ]
    },
    {
      "cell_type": "code",
      "metadata": {
        "id": "50rnK3u2DW5I",
        "colab_type": "code",
        "outputId": "f86aded9-7cc2-4429-a571-2db13d50c025",
        "colab": {
          "base_uri": "https://localhost:8080/",
          "height": 527
        }
      },
      "source": [
        "!apt-get update"
      ],
      "execution_count": 5,
      "outputs": [
        {
          "output_type": "stream",
          "text": [
            "\r0% [Working]\r            \rGet:1 file:/var/cuda-repo-9-2-local  InRelease\n",
            "\r            \rIgn:1 file:/var/cuda-repo-9-2-local  InRelease\n",
            "\r0% [Working]\r            \rGet:2 file:/var/cuda-repo-9-2-local  Release [574 B]\n",
            "\r0% [Connecting to security.ubuntu.com] [Connecting to cloud.r-project.org] [Con\r                                                                               \rGet:2 file:/var/cuda-repo-9-2-local  Release [574 B]\n",
            "\r0% [2 Release 0 B/574 B 0%] [Connecting to archive.ubuntu.com] [Connecting to s\r0% [Connecting to archive.ubuntu.com] [Connecting to security.ubuntu.com (91.18\r                                                                               \rGet:3 file:/var/cuda-repo-9-2-local  Release.gpg [801 B]\n",
            "\r0% [Connecting to archive.ubuntu.com] [Connecting to security.ubuntu.com (91.18\r                                                                               \rGet:3 file:/var/cuda-repo-9-2-local  Release.gpg [801 B]\n",
            "\r0% [3 Release.gpg 0 B/801 B 0%] [Connecting to archive.ubuntu.com] [Connecting \r0% [Connecting to archive.ubuntu.com] [Connecting to security.ubuntu.com (91.18\r                                                                               \rGet:4 http://security.ubuntu.com/ubuntu bionic-security InRelease [88.7 kB]\n",
            "\r                                                                               \rGet:5 http://ppa.launchpad.net/graphics-drivers/ppa/ubuntu bionic InRelease [21.3 kB]\n",
            "\r0% [Waiting for headers] [4 InRelease 43.1 kB/88.7 kB 49%] [Connected to cloud.\r                                                                               \rHit:6 http://archive.ubuntu.com/ubuntu bionic InRelease\n",
            "\r0% [Waiting for headers] [4 InRelease 43.1 kB/88.7 kB 49%] [Connected to cloud.\r0% [3 Release.gpg gpgv 574 B] [Waiting for headers] [4 InRelease 43.1 kB/88.7 k\r0% [3 Release.gpg gpgv 574 B] [Waiting for headers] [4 InRelease 60.5 kB/88.7 k\r                                                                               \rGet:7 http://archive.ubuntu.com/ubuntu bionic-updates InRelease [88.7 kB]\n",
            "\r0% [3 Release.gpg gpgv 574 B] [7 InRelease 14.2 kB/88.7 kB 16%] [4 InRelease 75\r0% [3 Release.gpg gpgv 574 B] [7 InRelease 15.6 kB/88.7 kB 18%] [Connected to c\r                                                                               \rGet:8 https://cloud.r-project.org/bin/linux/ubuntu bionic-cran35/ InRelease [3,626 B]\n",
            "\r0% [3 Release.gpg gpgv 574 B] [7 InRelease 43.1 kB/88.7 kB 49%] [8 InRelease 3,\r0% [3 Release.gpg gpgv 574 B] [7 InRelease 43.1 kB/88.7 kB 49%] [Waiting for he\r                                                                               \rGet:9 http://ppa.launchpad.net/marutter/c2d4u3.5/ubuntu bionic InRelease [15.4 kB]\n",
            "\r0% [3 Release.gpg gpgv 574 B] [7 InRelease 47.5 kB/88.7 kB 54%] [Waiting for he\r0% [3 Release.gpg gpgv 574 B] [7 InRelease 64.9 kB/88.7 kB 73%] [Waiting for he\r                                                                               \r0% [3 Release.gpg gpgv 574 B] [Waiting for headers] [Waiting for headers]\r                                                                         \rGet:10 http://archive.ubuntu.com/ubuntu bionic-backports InRelease [74.6 kB]\n",
            "\r0% [3 Release.gpg gpgv 574 B] [10 InRelease 17.1 kB/74.6 kB 23%] [Waiting for h\r                                                                               \r0% [3 Release.gpg gpgv 574 B] [Waiting for headers]\r                                                   \r0% [Waiting for headers]\r                        \rIgn:11 https://developer.download.nvidia.com/compute/cuda/repos/ubuntu1804/x86_64  InRelease\n",
            "\r0% [Waiting for headers]\r                        \rGet:12 file:/var/cuda-repo-9-2-local  Packages [18.7 kB]\n",
            "\r0% [12 Packages 0 B/18.7 kB 0%] [Waiting for headers]\r                                                     \r0% [Waiting for headers]\r0% [6 InRelease gpgv 242 kB] [Waiting for headers]\r0% [12 Packages store 0 B] [6 InRelease gpgv 242 kB] [Waiting for headers]\r                                                                          \r0% [6 InRelease gpgv 242 kB] [Waiting for headers]\r                                                  \r0% [Waiting for headers]\r0% [5 InRelease gpgv 21.3 kB] [Waiting for headers]\r                                                   \rIgn:13 https://developer.download.nvidia.com/compute/machine-learning/repos/ubuntu1804/x86_64  InRelease\n",
            "\r                                                   \r0% [5 InRelease gpgv 21.3 kB]\r                             \rGet:14 https://developer.download.nvidia.com/compute/cuda/repos/ubuntu1804/x86_64  Release [697 B]\n",
            "\r0% [5 InRelease gpgv 21.3 kB] [14 Release 697 B/697 B 100%]\r                                                           \r0% [5 InRelease gpgv 21.3 kB]\r                             \rHit:15 https://developer.download.nvidia.com/compute/machine-learning/repos/ubuntu1804/x86_64  Release\n",
            "\r0% [5 InRelease gpgv 21.3 kB]\r                             \rGet:16 https://developer.download.nvidia.com/compute/cuda/repos/ubuntu1804/x86_64  Release.gpg [836 B]\n",
            "\r0% [5 InRelease gpgv 21.3 kB] [16 Release.gpg 836 B/836 B 100%]\r                                                               \r0% [5 InRelease gpgv 21.3 kB]\r                             \r0% [Working]\r0% [4 InRelease gpgv 88.7 kB] [Connecting to ppa.launchpad.net (91.189.95.83)]\r                                                                              \rGet:17 http://ppa.launchpad.net/graphics-drivers/ppa/ubuntu bionic/main amd64 Packages [37.4 kB]\n",
            "\r                                                                              \r0% [4 InRelease gpgv 88.7 kB] [17 Packages 14.3 kB/37.4 kB 38%]\r                                                               \r0% [4 InRelease gpgv 88.7 kB]\r0% [4 InRelease gpgv 88.7 kB]\r                             \r0% [Working]\r0% [8 InRelease gpgv 3,626 B] [Waiting for headers]\r                                                   \rGet:18 http://security.ubuntu.com/ubuntu bionic-security/main amd64 Packages [933 kB]\n",
            "Get:19 http://security.ubuntu.com/ubuntu bionic-security/universe amd64 Packages [856 kB]\n",
            "Get:20 http://ppa.launchpad.net/marutter/c2d4u3.5/ubuntu bionic/main Sources [1,830 kB]\n",
            "Get:21 http://ppa.launchpad.net/marutter/c2d4u3.5/ubuntu bionic/main amd64 Packages [882 kB]\n",
            "Get:22 http://archive.ubuntu.com/ubuntu bionic-updates/universe amd64 Packages [1,387 kB]\n",
            "Get:23 http://archive.ubuntu.com/ubuntu bionic-updates/main amd64 Packages [1,230 kB]\n",
            "Ign:25 https://developer.download.nvidia.com/compute/cuda/repos/ubuntu1804/x86_64  Packages\n",
            "Get:25 https://developer.download.nvidia.com/compute/cuda/repos/ubuntu1804/x86_64  Packages [162 kB]\n",
            "Fetched 7,612 kB in 2s (3,717 kB/s)\n",
            "Reading package lists... Done\n"
          ],
          "name": "stdout"
        }
      ]
    },
    {
      "cell_type": "code",
      "metadata": {
        "id": "yiHjgIZyDaEB",
        "colab_type": "code",
        "outputId": "3c814334-b8de-4786-adb0-92b4a83c17a6",
        "colab": {
          "base_uri": "https://localhost:8080/",
          "height": 1000
        }
      },
      "source": [
        "!apt-get install cuda"
      ],
      "execution_count": 6,
      "outputs": [
        {
          "output_type": "stream",
          "text": [
            "Reading package lists... Done\n",
            "Building dependency tree       \n",
            "Reading state information... Done\n",
            "The following packages were automatically installed and are no longer required:\n",
            "  libnvidia-common-440 libnvidia-extra-440\n",
            "Use 'apt autoremove' to remove them.\n",
            "The following additional packages will be installed:\n",
            "  cuda-11-0 cuda-command-line-tools-11-0 cuda-compiler-11-0 cuda-cudart-11-0\n",
            "  cuda-cudart-dev-11-0 cuda-cuobjdump-11-0 cuda-cupti-11-0 cuda-cupti-dev-11-0\n",
            "  cuda-demo-suite-11-0 cuda-documentation-11-0 cuda-driver-dev-11-0\n",
            "  cuda-drivers cuda-drivers-450 cuda-gdb-11-0 cuda-libraries-11-0\n",
            "  cuda-libraries-dev-11-0 cuda-memcheck-11-0 cuda-nsight-11-0\n",
            "  cuda-nsight-compute-11-0 cuda-nsight-systems-11-0 cuda-nvcc-11-0\n",
            "  cuda-nvdisasm-11-0 cuda-nvml-dev-11-0 cuda-nvprof-11-0 cuda-nvprune-11-0\n",
            "  cuda-nvrtc-11-0 cuda-nvrtc-dev-11-0 cuda-nvtx-11-0 cuda-nvvp-11-0\n",
            "  cuda-runtime-11-0 cuda-samples-11-0 cuda-sanitizer-11-0 cuda-toolkit-11-0\n",
            "  cuda-tools-11-0 cuda-visual-tools-11-0 libcublas-11-0 libcublas-dev-11-0\n",
            "  libcufft-11-0 libcufft-dev-11-0 libcurand-11-0 libcurand-dev-11-0\n",
            "  libcusolver-11-0 libcusolver-dev-11-0 libcusparse-11-0 libcusparse-dev-11-0\n",
            "  libnpp-11-0 libnpp-dev-11-0 libnvidia-cfg1-450 libnvidia-common-450\n",
            "  libnvidia-compute-450 libnvidia-decode-450 libnvidia-encode-450\n",
            "  libnvidia-extra-440 libnvidia-fbc1-450 libnvidia-gl-450 libnvidia-ifr1-450\n",
            "  libnvjpeg-11-0 libnvjpeg-dev-11-0 nvidia-compute-utils-450 nvidia-dkms-450\n",
            "  nvidia-driver-450 nvidia-kernel-common-450 nvidia-kernel-source-450\n",
            "  nvidia-modprobe nvidia-settings nvidia-utils-450\n",
            "  xserver-xorg-video-nvidia-450\n",
            "The following packages will be REMOVED:\n",
            "  libnvidia-cfg1-418 libnvidia-cfg1-430 libnvidia-cfg1-440\n",
            "  libnvidia-compute-418 libnvidia-compute-430 libnvidia-compute-440\n",
            "  libnvidia-decode-440 libnvidia-encode-440 libnvidia-fbc1-440\n",
            "  libnvidia-gl-418 libnvidia-gl-430 libnvidia-gl-440 libnvidia-ifr1-440\n",
            "  nvidia-compute-utils-440 nvidia-dkms-440 nvidia-driver-440\n",
            "  nvidia-kernel-common-440 nvidia-kernel-source-440 nvidia-utils-440\n",
            "  xserver-xorg-video-nvidia-440\n",
            "The following NEW packages will be installed:\n",
            "  cuda cuda-11-0 cuda-command-line-tools-11-0 cuda-compiler-11-0\n",
            "  cuda-cudart-11-0 cuda-cudart-dev-11-0 cuda-cuobjdump-11-0 cuda-cupti-11-0\n",
            "  cuda-cupti-dev-11-0 cuda-demo-suite-11-0 cuda-documentation-11-0\n",
            "  cuda-driver-dev-11-0 cuda-drivers-450 cuda-gdb-11-0 cuda-libraries-11-0\n",
            "  cuda-libraries-dev-11-0 cuda-memcheck-11-0 cuda-nsight-11-0\n",
            "  cuda-nsight-compute-11-0 cuda-nsight-systems-11-0 cuda-nvcc-11-0\n",
            "  cuda-nvdisasm-11-0 cuda-nvml-dev-11-0 cuda-nvprof-11-0 cuda-nvprune-11-0\n",
            "  cuda-nvrtc-11-0 cuda-nvrtc-dev-11-0 cuda-nvtx-11-0 cuda-nvvp-11-0\n",
            "  cuda-runtime-11-0 cuda-samples-11-0 cuda-sanitizer-11-0 cuda-toolkit-11-0\n",
            "  cuda-tools-11-0 cuda-visual-tools-11-0 libcublas-11-0 libcublas-dev-11-0\n",
            "  libcufft-11-0 libcufft-dev-11-0 libcurand-11-0 libcurand-dev-11-0\n",
            "  libcusolver-11-0 libcusolver-dev-11-0 libcusparse-11-0 libcusparse-dev-11-0\n",
            "  libnpp-11-0 libnpp-dev-11-0 libnvidia-cfg1-450 libnvidia-common-450\n",
            "  libnvidia-compute-450 libnvidia-decode-450 libnvidia-encode-450\n",
            "  libnvidia-fbc1-450 libnvidia-gl-450 libnvidia-ifr1-450 libnvjpeg-11-0\n",
            "  libnvjpeg-dev-11-0 nvidia-compute-utils-450 nvidia-dkms-450\n",
            "  nvidia-driver-450 nvidia-kernel-common-450 nvidia-kernel-source-450\n",
            "  nvidia-utils-450 xserver-xorg-video-nvidia-450\n",
            "The following packages will be upgraded:\n",
            "  cuda-drivers libnvidia-extra-440 nvidia-modprobe nvidia-settings\n",
            "4 upgraded, 64 newly installed, 20 to remove and 44 not upgraded.\n",
            "Need to get 1,604 MB of archives.\n",
            "After this operation, 3,803 MB of additional disk space will be used.\n",
            "Get:1 http://ppa.launchpad.net/graphics-drivers/ppa/ubuntu bionic/main amd64 libnvidia-extra-440 amd64 440.82-0ubuntu0~0.18.04.2 [40.5 kB]\n",
            "Get:2 https://developer.download.nvidia.com/compute/cuda/repos/ubuntu1804/x86_64  libnvidia-common-450 450.36.06-0ubuntu1 [10.2 kB]\n",
            "Get:3 https://developer.download.nvidia.com/compute/cuda/repos/ubuntu1804/x86_64  cuda-drivers 450.36.06-1 [2,500 B]\n",
            "Get:4 https://developer.download.nvidia.com/compute/cuda/repos/ubuntu1804/x86_64  libnvidia-compute-450 450.36.06-0ubuntu1 [21.8 MB]\n",
            "Get:5 https://developer.download.nvidia.com/compute/cuda/repos/ubuntu1804/x86_64  libnvidia-decode-450 450.36.06-0ubuntu1 [1,101 kB]\n",
            "Get:6 https://developer.download.nvidia.com/compute/cuda/repos/ubuntu1804/x86_64  libnvidia-encode-450 450.36.06-0ubuntu1 [39.2 kB]\n",
            "Get:7 https://developer.download.nvidia.com/compute/cuda/repos/ubuntu1804/x86_64  libnvidia-fbc1-450 450.36.06-0ubuntu1 [49.7 kB]\n",
            "Get:8 https://developer.download.nvidia.com/compute/cuda/repos/ubuntu1804/x86_64  libnvidia-gl-450 450.36.06-0ubuntu1 [60.3 MB]\n",
            "Get:9 https://developer.download.nvidia.com/compute/cuda/repos/ubuntu1804/x86_64  libnvidia-ifr1-450 450.36.06-0ubuntu1 [68.4 kB]\n",
            "Get:10 https://developer.download.nvidia.com/compute/cuda/repos/ubuntu1804/x86_64  nvidia-compute-utils-450 450.36.06-0ubuntu1 [123 kB]\n",
            "Get:11 https://developer.download.nvidia.com/compute/cuda/repos/ubuntu1804/x86_64  nvidia-kernel-source-450 450.36.06-0ubuntu1 [11.8 MB]\n",
            "Get:12 https://developer.download.nvidia.com/compute/cuda/repos/ubuntu1804/x86_64  nvidia-kernel-common-450 450.36.06-0ubuntu1 [9,810 B]\n",
            "Get:13 https://developer.download.nvidia.com/compute/cuda/repos/ubuntu1804/x86_64  nvidia-dkms-450 450.36.06-0ubuntu1 [26.7 kB]\n",
            "Get:14 https://developer.download.nvidia.com/compute/cuda/repos/ubuntu1804/x86_64  nvidia-utils-450 450.36.06-0ubuntu1 [366 kB]\n",
            "Get:15 https://developer.download.nvidia.com/compute/cuda/repos/ubuntu1804/x86_64  libnvidia-cfg1-450 450.36.06-0ubuntu1 [74.5 kB]\n",
            "Get:16 https://developer.download.nvidia.com/compute/cuda/repos/ubuntu1804/x86_64  xserver-xorg-video-nvidia-450 450.36.06-0ubuntu1 [1,534 kB]\n",
            "Get:17 https://developer.download.nvidia.com/compute/cuda/repos/ubuntu1804/x86_64  nvidia-driver-450 450.36.06-0ubuntu1 [417 kB]\n",
            "Get:18 https://developer.download.nvidia.com/compute/cuda/repos/ubuntu1804/x86_64  nvidia-modprobe 450.36.06-0ubuntu1 [19.1 kB]\n",
            "Get:19 https://developer.download.nvidia.com/compute/cuda/repos/ubuntu1804/x86_64  nvidia-settings 450.36.06-0ubuntu1 [921 kB]\n",
            "Get:20 https://developer.download.nvidia.com/compute/cuda/repos/ubuntu1804/x86_64  cuda-drivers-450 450.36.06-1 [2,624 B]\n",
            "Get:21 https://developer.download.nvidia.com/compute/cuda/repos/ubuntu1804/x86_64  cuda-cudart-11-0 11.0.171-1 [129 kB]\n",
            "Get:22 https://developer.download.nvidia.com/compute/cuda/repos/ubuntu1804/x86_64  cuda-nvrtc-11-0 11.0.167-1 [6,513 kB]\n",
            "Get:23 https://developer.download.nvidia.com/compute/cuda/repos/ubuntu1804/x86_64  libcublas-11-0 11.0.0.191-1 [99.9 MB]\n",
            "Get:24 https://developer.download.nvidia.com/compute/cuda/repos/ubuntu1804/x86_64  libcufft-11-0 10.1.3.191-1 [92.6 MB]\n",
            "Get:25 https://developer.download.nvidia.com/compute/cuda/repos/ubuntu1804/x86_64  libcurand-11-0 10.2.0.191-1 [39.0 MB]\n",
            "Get:26 https://developer.download.nvidia.com/compute/cuda/repos/ubuntu1804/x86_64  libcusolver-11-0 10.4.0.191-1 [253 MB]\n",
            "Get:27 https://developer.download.nvidia.com/compute/cuda/repos/ubuntu1804/x86_64  libcusparse-11-0 11.0.0.191-1 [62.3 MB]\n",
            "Get:28 https://developer.download.nvidia.com/compute/cuda/repos/ubuntu1804/x86_64  libnpp-11-0 11.0.0.191-1 [56.2 MB]\n",
            "Get:29 https://developer.download.nvidia.com/compute/cuda/repos/ubuntu1804/x86_64  libnvjpeg-11-0 11.0.0.191-1 [1,386 kB]\n",
            "Get:30 https://developer.download.nvidia.com/compute/cuda/repos/ubuntu1804/x86_64  cuda-libraries-11-0 11.0.1-1 [2,466 B]\n",
            "Get:31 https://developer.download.nvidia.com/compute/cuda/repos/ubuntu1804/x86_64  cuda-runtime-11-0 11.0.1-1 [2,408 B]\n",
            "Get:32 https://developer.download.nvidia.com/compute/cuda/repos/ubuntu1804/x86_64  cuda-cuobjdump-11-0 11.0.167-1 [102 kB]\n",
            "Get:33 https://developer.download.nvidia.com/compute/cuda/repos/ubuntu1804/x86_64  cuda-driver-dev-11-0 11.0.171-1 [25.1 kB]\n",
            "Get:34 https://developer.download.nvidia.com/compute/cuda/repos/ubuntu1804/x86_64  cuda-cudart-dev-11-0 11.0.171-1 [1,659 kB]\n",
            "Get:35 https://developer.download.nvidia.com/compute/cuda/repos/ubuntu1804/x86_64  cuda-nvcc-11-0 11.0.167-1 [21.0 MB]\n",
            "Get:36 https://developer.download.nvidia.com/compute/cuda/repos/ubuntu1804/x86_64  cuda-nvprune-11-0 11.0.167-1 [53.1 kB]\n",
            "Get:37 https://developer.download.nvidia.com/compute/cuda/repos/ubuntu1804/x86_64  cuda-compiler-11-0 11.0.1-1 [2,400 B]\n",
            "Get:38 https://developer.download.nvidia.com/compute/cuda/repos/ubuntu1804/x86_64  cuda-nvrtc-dev-11-0 11.0.167-1 [21.6 kB]\n",
            "Get:39 https://developer.download.nvidia.com/compute/cuda/repos/ubuntu1804/x86_64  libcublas-dev-11-0 11.0.0.191-1 [102 MB]\n",
            "Get:40 https://developer.download.nvidia.com/compute/cuda/repos/ubuntu1804/x86_64  libcufft-dev-11-0 10.1.3.191-1 [170 MB]\n",
            "Get:41 https://developer.download.nvidia.com/compute/cuda/repos/ubuntu1804/x86_64  libcurand-dev-11-0 10.2.0.191-1 [39.2 MB]\n",
            "Get:42 https://developer.download.nvidia.com/compute/cuda/repos/ubuntu1804/x86_64  libcusolver-dev-11-0 10.4.0.191-1 [17.9 MB]\n",
            "Get:43 https://developer.download.nvidia.com/compute/cuda/repos/ubuntu1804/x86_64  libcusparse-dev-11-0 11.0.0.191-1 [62.5 MB]\n",
            "Get:44 https://developer.download.nvidia.com/compute/cuda/repos/ubuntu1804/x86_64  libnpp-dev-11-0 11.0.0.191-1 [57.0 MB]\n",
            "Get:45 https://developer.download.nvidia.com/compute/cuda/repos/ubuntu1804/x86_64  libnvjpeg-dev-11-0 11.0.0.191-1 [1,318 kB]\n",
            "Get:46 https://developer.download.nvidia.com/compute/cuda/repos/ubuntu1804/x86_64  cuda-libraries-dev-11-0 11.0.1-1 [2,484 B]\n",
            "Get:47 https://developer.download.nvidia.com/compute/cuda/repos/ubuntu1804/x86_64  cuda-cupti-11-0 11.0.167-1 [10.3 MB]\n",
            "Get:48 https://developer.download.nvidia.com/compute/cuda/repos/ubuntu1804/x86_64  cuda-cupti-dev-11-0 11.0.167-1 [2,282 kB]\n",
            "Get:49 https://developer.download.nvidia.com/compute/cuda/repos/ubuntu1804/x86_64  cuda-nvdisasm-11-0 11.0.167-1 [28.2 MB]\n",
            "Get:50 https://developer.download.nvidia.com/compute/cuda/repos/ubuntu1804/x86_64  cuda-gdb-11-0 11.0.172-1 [3,829 kB]\n",
            "Get:51 https://developer.download.nvidia.com/compute/cuda/repos/ubuntu1804/x86_64  cuda-memcheck-11-0 11.0.167-1 [144 kB]\n",
            "Get:52 https://developer.download.nvidia.com/compute/cuda/repos/ubuntu1804/x86_64  cuda-nvprof-11-0 11.0.167-1 [1,912 kB]\n",
            "Get:53 https://developer.download.nvidia.com/compute/cuda/repos/ubuntu1804/x86_64  cuda-nvtx-11-0 11.0.167-1 [51.1 kB]\n",
            "Get:54 https://developer.download.nvidia.com/compute/cuda/repos/ubuntu1804/x86_64  cuda-sanitizer-11-0 11.0.167-1 [7,010 kB]\n",
            "Get:55 https://developer.download.nvidia.com/compute/cuda/repos/ubuntu1804/x86_64  cuda-command-line-tools-11-0 11.0.1-1 [2,456 B]\n",
            "Get:56 https://developer.download.nvidia.com/compute/cuda/repos/ubuntu1804/x86_64  cuda-nsight-compute-11-0 11.0.1-1 [3,684 B]\n",
            "Get:57 https://developer.download.nvidia.com/compute/cuda/repos/ubuntu1804/x86_64  cuda-nsight-systems-11-0 11.0.1-1 [3,248 B]\n",
            "Get:58 https://developer.download.nvidia.com/compute/cuda/repos/ubuntu1804/x86_64  cuda-nsight-11-0 11.0.167-1 [119 MB]\n",
            "Get:59 https://developer.download.nvidia.com/compute/cuda/repos/ubuntu1804/x86_64  cuda-nvml-dev-11-0 11.0.167-1 [71.9 kB]\n",
            "Get:60 https://developer.download.nvidia.com/compute/cuda/repos/ubuntu1804/x86_64  cuda-nvvp-11-0 11.0.167-1 [115 MB]\n",
            "Get:61 https://developer.download.nvidia.com/compute/cuda/repos/ubuntu1804/x86_64  cuda-visual-tools-11-0 11.0.1-1 [2,912 B]\n",
            "Get:62 https://developer.download.nvidia.com/compute/cuda/repos/ubuntu1804/x86_64  cuda-tools-11-0 11.0.1-1 [2,360 B]\n",
            "Get:63 https://developer.download.nvidia.com/compute/cuda/repos/ubuntu1804/x86_64  cuda-samples-11-0 11.0.167-1 [68.1 MB]\n",
            "Get:64 https://developer.download.nvidia.com/compute/cuda/repos/ubuntu1804/x86_64  cuda-documentation-11-0 11.0.182-1 [63.1 MB]\n",
            "Get:65 https://developer.download.nvidia.com/compute/cuda/repos/ubuntu1804/x86_64  cuda-toolkit-11-0 11.0.1-1 [2,708 B]\n",
            "Get:66 https://developer.download.nvidia.com/compute/cuda/repos/ubuntu1804/x86_64  cuda-demo-suite-11-0 11.0.167-1 [3,948 kB]\n",
            "Get:67 https://developer.download.nvidia.com/compute/cuda/repos/ubuntu1804/x86_64  cuda-11-0 11.0.1-1 [2,434 B]\n",
            "Get:68 https://developer.download.nvidia.com/compute/cuda/repos/ubuntu1804/x86_64  cuda 11.0.1-1 [2,380 B]\n",
            "Fetched 1,604 MB in 25s (63.7 MB/s)\n",
            "Extracting templates from packages: 100%\n",
            "(Reading database ... 144540 files and directories currently installed.)\n",
            "Removing libnvidia-cfg1-418:amd64 (430.64-0ubuntu0~gpu18.04.1) ...\n",
            "Removing libnvidia-cfg1-430:amd64 (440.59-0ubuntu0.18.04.1) ...\n",
            "Selecting previously unselected package libnvidia-common-450.\n",
            "(Reading database ... 144534 files and directories currently installed.)\n",
            "Preparing to unpack .../libnvidia-common-450_450.36.06-0ubuntu1_all.deb ...\n",
            "Checking for existing driver runfile install\n",
            "/var/lib/dpkg/tmp.ci/preinst: 6: /var/lib/dpkg/tmp.ci/preinst: [[: not found\n",
            "Unpacking libnvidia-common-450 (450.36.06-0ubuntu1) ...\n",
            "Preparing to unpack .../cuda-drivers_450.36.06-1_amd64.deb ...\n",
            "Unpacking cuda-drivers (450.36.06-1) over (440.64.00-1) ...\n",
            "(Reading database ... 144539 files and directories currently installed.)\n",
            "Removing nvidia-driver-440 (440.82-0ubuntu0~0.18.04.1) ...\n",
            "Removing libnvidia-ifr1-440:amd64 (440.82-0ubuntu0~0.18.04.1) ...\n",
            "Removing libnvidia-gl-418:amd64 (430.64-0ubuntu0~gpu18.04.1) ...\n",
            "Removing libnvidia-gl-430:amd64 (440.59-0ubuntu0.18.04.1) ...\n",
            "Removing libnvidia-gl-440:amd64 (440.82-0ubuntu0~0.18.04.1) ...\n",
            "Removing nvidia-compute-utils-440 (440.82-0ubuntu0~0.18.04.1) ...\n",
            "System has not been booted with systemd as init system (PID 1). Can't operate.\n",
            "dpkg: libnvidia-compute-440:amd64: dependency problems, but removing anyway as you requested:\n",
            " libnvidia-decode-440:amd64 depends on libnvidia-compute-440 (= 440.82-0ubuntu0~0.18.04.1).\n",
            " libnvidia-compute-430:amd64 depends on libnvidia-compute-440.\n",
            " nvidia-utils-440 depends on libnvidia-compute-440.\n",
            "\n",
            "Removing libnvidia-compute-440:amd64 (440.82-0ubuntu0~0.18.04.1) ...\n",
            "Selecting previously unselected package libnvidia-compute-450:amd64.\n",
            "(Reading database ... 144406 files and directories currently installed.)\n",
            "Preparing to unpack .../libnvidia-compute-450_450.36.06-0ubuntu1_amd64.deb ...\n",
            "Unpacking libnvidia-compute-450:amd64 (450.36.06-0ubuntu1) ...\n",
            "dpkg: error processing archive /var/cache/apt/archives/libnvidia-compute-450_450.36.06-0ubuntu1_amd64.deb (--unpack):\n",
            " trying to overwrite '/usr/lib/x86_64-linux-gnu/libnvidia-allocator.so', which is also in package libnvidia-extra-440:amd64 440.82-0ubuntu0~0.18.04.1\n",
            "Errors were encountered while processing:\n",
            " /var/cache/apt/archives/libnvidia-compute-450_450.36.06-0ubuntu1_amd64.deb\n",
            "E: Sub-process /usr/bin/dpkg returned an error code (1)\n"
          ],
          "name": "stdout"
        }
      ]
    },
    {
      "cell_type": "code",
      "metadata": {
        "id": "DdAomzZjE2ap",
        "colab_type": "code",
        "outputId": "62cdd3b4-9a25-428f-9ae8-f99dee02b64f",
        "colab": {
          "base_uri": "https://localhost:8080/",
          "height": 102
        }
      },
      "source": [
        "!dpkg -i cuda-repo-ubuntu1710-9-2-local-cublas-update-1_1.0-1_amd64"
      ],
      "execution_count": 7,
      "outputs": [
        {
          "output_type": "stream",
          "text": [
            "Selecting previously unselected package cuda-repo-ubuntu1710-9-2-local-cublas-update-1.\n",
            "(Reading database ... \r(Reading database ... 5%\r(Reading database ... 10%\r(Reading database ... 15%\r(Reading database ... 20%\r(Reading database ... 25%\r(Reading database ... 30%\r(Reading database ... 35%\r(Reading database ... 40%\r(Reading database ... 45%\r(Reading database ... 50%\r(Reading database ... 55%\r(Reading database ... 60%\r(Reading database ... 65%\r(Reading database ... 70%\r(Reading database ... 75%\r(Reading database ... 80%\r(Reading database ... 85%\r(Reading database ... 90%\r(Reading database ... 95%\r(Reading database ... 100%\r(Reading database ... 144406 files and directories currently installed.)\n",
            "Preparing to unpack cuda-repo-ubuntu1710-9-2-local-cublas-update-1_1.0-1_amd64 ...\n",
            "Unpacking cuda-repo-ubuntu1710-9-2-local-cublas-update-1 (1.0-1) ...\n",
            "Setting up cuda-repo-ubuntu1710-9-2-local-cublas-update-1 (1.0-1) ...\n"
          ],
          "name": "stdout"
        }
      ]
    },
    {
      "cell_type": "code",
      "metadata": {
        "id": "AKVsaAAsG6CC",
        "colab_type": "code",
        "outputId": "a5cad21f-7c06-4f1a-e04d-2f2a80515f27",
        "colab": {
          "base_uri": "https://localhost:8080/",
          "height": 51
        }
      },
      "source": [
        "!ls"
      ],
      "execution_count": 8,
      "outputs": [
        {
          "output_type": "stream",
          "text": [
            "cuda-repo-ubuntu1710-9-2-local_9.2.88-1_amd64\t\t    sample_data\n",
            "cuda-repo-ubuntu1710-9-2-local-cublas-update-1_1.0-1_amd64\n"
          ],
          "name": "stdout"
        }
      ]
    },
    {
      "cell_type": "markdown",
      "metadata": {
        "id": "yQoXUG9dE-OU",
        "colab_type": "text"
      },
      "source": [
        "# Install CUDA Toolkit"
      ]
    },
    {
      "cell_type": "code",
      "metadata": {
        "id": "nsyMK9fxFHcO",
        "colab_type": "code",
        "outputId": "f6677f10-3c90-4969-b55f-1b0475ca9b8f",
        "colab": {
          "base_uri": "https://localhost:8080/",
          "height": 561
        }
      },
      "source": [
        "!apt-get install nvidia-cuda-toolkit"
      ],
      "execution_count": 9,
      "outputs": [
        {
          "output_type": "stream",
          "text": [
            "Reading package lists... Done\n",
            "Building dependency tree       \n",
            "Reading state information... Done\n",
            "You might want to run 'apt --fix-broken install' to correct these.\n",
            "The following packages have unmet dependencies:\n",
            " cuda-drivers : Depends: cuda-drivers-450 (= 450.36.06-1) but it is not going to be installed\n",
            " libnvidia-compute-430 : Depends: libnvidia-compute-440 but it is not going to be installed\n",
            " libnvidia-decode-440 : Depends: libnvidia-compute-440 (= 440.82-0ubuntu0~0.18.04.1) but it is not going to be installed\n",
            " nvidia-cuda-toolkit : Depends: nvidia-profiler (= 9.1.85-3ubuntu1) but it is not going to be installed\n",
            "                       Depends: nvidia-cuda-dev (= 9.1.85-3ubuntu1) but it is not going to be installed\n",
            "                       Depends: gcc-6 but it is not going to be installed or\n",
            "                                clang-4.0 but it is not going to be installed or\n",
            "                                clang-3.9 but it is not going to be installed or\n",
            "                                clang-3.8 but it is not installable or\n",
            "                                clang (< 1:5~) but 1:6.0-41~exp5~ubuntu1 is to be installed or\n",
            "                                gcc-5 but it is not going to be installed or\n",
            "                                gcc-4.9 but it is not installable or\n",
            "                                gcc-4.8 but it is not going to be installed\n",
            "                       Depends: g++-6 but it is not going to be installed or\n",
            "                                clang-4.0 but it is not going to be installed or\n",
            "                                clang-3.9 but it is not going to be installed or\n",
            "                                clang-3.8 but it is not installable or\n",
            "                                clang (< 1:5~) but 1:6.0-41~exp5~ubuntu1 is to be installed or\n",
            "                                g++-5 but it is not going to be installed or\n",
            "                                g++-4.9 but it is not installable or\n",
            "                                g++-4.8 but it is not going to be installed\n",
            "                       Depends: libnvvm3 (>= 7.0) but it is not going to be installed\n",
            "                       Recommends: nvidia-cuda-doc (= 9.1.85-3ubuntu1) but it is not going to be installed\n",
            "                       Recommends: nvidia-cuda-gdb (= 9.1.85-3ubuntu1) but it is not going to be installed\n",
            "                       Recommends: nvidia-visual-profiler (= 9.1.85-3ubuntu1) but it is not going to be installed\n",
            " nvidia-utils-440 : Depends: libnvidia-compute-440 but it is not going to be installed\n",
            "E: Unmet dependencies. Try 'apt --fix-broken install' with no packages (or specify a solution).\n"
          ],
          "name": "stdout"
        }
      ]
    },
    {
      "cell_type": "code",
      "metadata": {
        "id": "evxzc04GGqH3",
        "colab_type": "code",
        "outputId": "81e10e9c-ab74-482f-816c-b54dd4d8d58f",
        "colab": {
          "base_uri": "https://localhost:8080/",
          "height": 85
        }
      },
      "source": [
        "!nvcc --version"
      ],
      "execution_count": 10,
      "outputs": [
        {
          "output_type": "stream",
          "text": [
            "nvcc: NVIDIA (R) Cuda compiler driver\n",
            "Copyright (c) 2005-2019 NVIDIA Corporation\n",
            "Built on Sun_Jul_28_19:07:16_PDT_2019\n",
            "Cuda compilation tools, release 10.1, V10.1.243\n"
          ],
          "name": "stdout"
        }
      ]
    },
    {
      "cell_type": "markdown",
      "metadata": {
        "id": "mhD0p6aQHgPR",
        "colab_type": "text"
      },
      "source": [
        "# Link our Compilers to CUDA "
      ]
    },
    {
      "cell_type": "code",
      "metadata": {
        "id": "byTunTSUHO0N",
        "colab_type": "code",
        "colab": {}
      },
      "source": [
        "! ln -s /usr/bin/gcc-6 /usr/local/cuda/bin/gcc\n",
        "! ln -s /usr/bin/g++-6 /usr/local/cuda/bin/g++"
      ],
      "execution_count": 0,
      "outputs": []
    },
    {
      "cell_type": "code",
      "metadata": {
        "colab_type": "code",
        "id": "ZJIAuslYX_OQ",
        "colab": {}
      },
      "source": [
        "! ln -s /usr/bin/gcc-6 /usr/local/cuda/bin/gcc\n",
        "! ln -s /usr/bin/g++-6 /usr/local/cuda/bin/g++"
      ],
      "execution_count": 0,
      "outputs": []
    },
    {
      "cell_type": "markdown",
      "metadata": {
        "colab_type": "text",
        "id": "AtutLZalLjXi"
      },
      "source": [
        "# Install Julia"
      ]
    },
    {
      "cell_type": "markdown",
      "metadata": {
        "id": "fnKbaB9yYV1L",
        "colab_type": "text"
      },
      "source": [
        "Si ça ne marche pas, check https://www.youtube.com/watch?v=xpZo3L2dYTY\n",
        "\n",
        "Si la version de Julia change, il faut changer les paramètres dans le fichier Python!"
      ]
    },
    {
      "cell_type": "code",
      "metadata": {
        "colab_type": "code",
        "outputId": "8c24f203-ba5c-4a1d-b707-c7982d26c85a",
        "id": "R4gYwY1DLjXl",
        "colab": {
          "base_uri": "https://localhost:8080/",
          "height": 1000
        }
      },
      "source": [
        "!curl -sSL \"https://julialang-s3.julialang.org/bin/linux/x64/1.4/julia-1.4.2-linux-x86_64.tar.gz\" -o julia.tar.gz\n",
        "!tar -xzf julia.tar.gz -C /usr --strip-components 1\n",
        "!rm -rf julia.tar.gz*\n",
        "!julia -e 'using Pkg; pkg\"add IJulia; add CuArrays; add Flux; precompile\"'"
      ],
      "execution_count": 12,
      "outputs": [
        {
          "output_type": "stream",
          "text": [
            "    Cloning default registries into `~/.julia`\n",
            "    Cloning registry from \"https://github.com/JuliaRegistries/General.git\"\n",
            "\u001b[2K\u001b[?25h      Added registry `General` to `~/.julia/registries/General`\n",
            "  Resolving package versions...\n",
            "  Installed MbedTLS_jll ───── v2.16.0+2\n",
            "  Installed VersionParsing ── v1.2.0\n",
            "  Installed SoftGlobalScope ─ v1.0.10\n",
            "  Installed ZeroMQ_jll ────── v4.3.2+3\n",
            "  Installed Parsers ───────── v1.0.5\n",
            "  Installed IJulia ────────── v1.21.2\n",
            "  Installed Conda ─────────── v1.4.1\n",
            "  Installed JSON ──────────── v0.21.0\n",
            "  Installed ZMQ ───────────── v1.2.1\n",
            "  Installed MbedTLS ───────── v1.0.2\n",
            "Downloading artifact: MbedTLS\n",
            "######################################################################## 100.0%\n",
            "\u001b[1A\u001b[2K\u001b[?25hDownloading artifact: ZeroMQ\n",
            "######################################################################## 100.0%\n",
            "\u001b[1A\u001b[2K\u001b[?25h   Updating `~/.julia/environments/v1.4/Project.toml`\n",
            "  [7073ff75] + IJulia v1.21.2\n",
            "   Updating `~/.julia/environments/v1.4/Manifest.toml`\n",
            "  [8f4d0f93] + Conda v1.4.1\n",
            "  [7073ff75] + IJulia v1.21.2\n",
            "  [682c06a0] + JSON v0.21.0\n",
            "  [739be429] + MbedTLS v1.0.2\n",
            "  [c8ffd9c3] + MbedTLS_jll v2.16.0+2\n",
            "  [69de0a69] + Parsers v1.0.5\n",
            "  [b85f4697] + SoftGlobalScope v1.0.10\n",
            "  [81def892] + VersionParsing v1.2.0\n",
            "  [c2297ded] + ZMQ v1.2.1\n",
            "  [8f1865be] + ZeroMQ_jll v4.3.2+3\n",
            "  [2a0f44e3] + Base64 \n",
            "  [ade2ca70] + Dates \n",
            "  [8ba89e20] + Distributed \n",
            "  [7b1f6079] + FileWatching \n",
            "  [b77e0a4c] + InteractiveUtils \n",
            "  [76f85450] + LibGit2 \n",
            "  [8f399da3] + Libdl \n",
            "  [56ddb016] + Logging \n",
            "  [d6f4376e] + Markdown \n",
            "  [a63ad114] + Mmap \n",
            "  [44cfe95a] + Pkg \n",
            "  [de0858da] + Printf \n",
            "  [3fa0cd96] + REPL \n",
            "  [9a3f8284] + Random \n",
            "  [ea8e919c] + SHA \n",
            "  [9e88b42a] + Serialization \n",
            "  [6462fe0b] + Sockets \n",
            "  [8dfed614] + Test \n",
            "  [cf7118a7] + UUIDs \n",
            "  [4ec0a83e] + Unicode \n",
            "   Building Conda ─→ `~/.julia/packages/Conda/3rPhK/deps/build.log`\n",
            "   Building IJulia → `~/.julia/packages/IJulia/DrVMH/deps/build.log`\n",
            "  Resolving package versions...\n",
            "  Installed CUDAapi ──────────── v4.0.0\n",
            "  Installed Adapt ────────────── v1.1.0\n",
            "  Installed BinaryProvider ───── v0.5.10\n",
            "  Installed GPUCompiler ──────── v0.2.0\n",
            "  Installed TimerOutputs ─────── v0.5.6\n",
            "  Installed DataStructures ───── v0.17.17\n",
            "  Installed CUDAdrv ──────────── v6.3.0\n",
            "  Installed CuArrays ─────────── v2.2.0\n",
            "  Installed MacroTools ───────── v0.5.5\n",
            "  Installed OrderedCollections ─ v1.2.0\n",
            "  Installed CEnum ────────────── v0.3.0\n",
            "  Installed Reexport ─────────── v0.2.0\n",
            "  Installed ExprTools ────────── v0.1.1\n",
            "  Installed Cthulhu ──────────── v1.1.1\n",
            "  Installed NNlib ────────────── v0.6.6\n",
            "  Installed CodeTracking ─────── v0.5.11\n",
            "  Installed AbstractFFTs ─────── v0.5.0\n",
            "  Installed Requires ─────────── v1.0.1\n",
            "  Installed LLVM ─────────────── v1.5.1\n",
            "  Installed GPUArrays ────────── v3.4.1\n",
            "  Installed CUDAnative ───────── v3.1.0\n",
            "   Updating `~/.julia/environments/v1.4/Project.toml`\n",
            "  [3a865a2d] + CuArrays v2.2.0\n",
            "   Updating `~/.julia/environments/v1.4/Manifest.toml`\n",
            "  [621f4979] + AbstractFFTs v0.5.0\n",
            "  [79e6a3ab] + Adapt v1.1.0\n",
            "  [b99e7846] + BinaryProvider v0.5.10\n",
            "  [fa961155] + CEnum v0.3.0\n",
            "  [3895d2a7] + CUDAapi v4.0.0\n",
            "  [c5f51814] + CUDAdrv v6.3.0\n",
            "  [be33ccc6] + CUDAnative v3.1.0\n",
            "  [da1fd8a2] + CodeTracking v0.5.11\n",
            "  [f68482b8] + Cthulhu v1.1.1\n",
            "  [3a865a2d] + CuArrays v2.2.0\n",
            "  [864edb3b] + DataStructures v0.17.17\n",
            "  [e2ba6199] + ExprTools v0.1.1\n",
            "  [0c68f7d7] + GPUArrays v3.4.1\n",
            "  [61eb1bfa] + GPUCompiler v0.2.0\n",
            "  [929cbde3] + LLVM v1.5.1\n",
            "  [1914dd2f] + MacroTools v0.5.5\n",
            "  [872c559c] + NNlib v0.6.6\n",
            "  [bac558e1] + OrderedCollections v1.2.0\n",
            "  [189a3867] + Reexport v0.2.0\n",
            "  [ae029012] + Requires v1.0.1\n",
            "  [a759f4b9] + TimerOutputs v0.5.6\n",
            "  [37e2e46d] + LinearAlgebra \n",
            "  [2f01184e] + SparseArrays \n",
            "  [10745b16] + Statistics \n",
            "   Building NNlib → `~/.julia/packages/NNlib/FAI3o/deps/build.log`\n",
            "  Resolving package versions...\n",
            "  Installed DataAPI ────────────────────── v1.3.0\n",
            "  Installed CodecZlib ──────────────────── v0.7.0\n",
            "  Installed OpenSpecFun_jll ────────────── v0.5.3+3\n",
            "  Installed DiffResults ────────────────── v1.0.2\n",
            "  Installed ForwardDiff ────────────────── v0.10.10\n",
            "  Installed Juno ───────────────────────── v0.8.2\n",
            "  Installed Flux ───────────────────────── v0.10.4\n",
            "  Installed StatsBase ──────────────────── v0.33.0\n",
            "  Installed SortingAlgorithms ──────────── v0.3.1\n",
            "  Installed Zygote ─────────────────────── v0.4.20\n",
            "  Installed AbstractTrees ──────────────── v0.3.3\n",
            "  Installed ZipFile ────────────────────── v0.9.2\n",
            "  Installed FixedPointNumbers ──────────── v0.8.0\n",
            "  Installed ArrayLayouts ───────────────── v0.2.6\n",
            "  Installed Colors ─────────────────────── v0.12.1\n",
            "  Installed CompilerSupportLibraries_jll ─ v0.3.3+0\n",
            "  Installed DiffRules ──────────────────── v1.0.1\n",
            "  Installed Missings ───────────────────── v0.4.3\n",
            "  Installed NaNMath ────────────────────── v0.3.3\n",
            "  Installed StaticArrays ───────────────── v0.12.3\n",
            "  Installed TranscodingStreams ─────────── v0.9.5\n",
            "  Installed IRTools ────────────────────── v0.3.3\n",
            "  Installed Zlib_jll ───────────────────── v1.2.11+10\n",
            "  Installed FillArrays ─────────────────── v0.8.10\n",
            "  Installed ZygoteRules ────────────────── v0.2.0\n",
            "  Installed Media ──────────────────────── v0.5.0\n",
            "  Installed CommonSubexpressions ───────── v0.2.0\n",
            "  Installed SpecialFunctions ───────────── v0.10.3\n",
            "  Installed ColorTypes ─────────────────── v0.10.3\n",
            "Downloading artifact: OpenSpecFun\n",
            "######################################################################## 100.0%\n",
            "\u001b[1A\u001b[2K\u001b[?25hDownloading artifact: CompilerSupportLibraries\n",
            "######################################################################## 100.0%\n",
            "\u001b[1A\u001b[2K\u001b[?25hDownloading artifact: Zlib\n",
            "######################################################################## 100.0%\n",
            "\u001b[1A\u001b[2K\u001b[?25h   Updating `~/.julia/environments/v1.4/Project.toml`\n",
            "  [587475ba] + Flux v0.10.4\n",
            "   Updating `~/.julia/environments/v1.4/Manifest.toml`\n",
            "  [1520ce14] + AbstractTrees v0.3.3\n",
            "  [4c555306] + ArrayLayouts v0.2.6\n",
            "  [944b1d66] + CodecZlib v0.7.0\n",
            "  [3da002f7] + ColorTypes v0.10.3\n",
            "  [5ae59095] + Colors v0.12.1\n",
            "  [bbf7d656] + CommonSubexpressions v0.2.0\n",
            "  [e66e0078] + CompilerSupportLibraries_jll v0.3.3+0\n",
            "  [9a962f9c] + DataAPI v1.3.0\n",
            "  [163ba53b] + DiffResults v1.0.2\n",
            "  [b552c78f] + DiffRules v1.0.1\n",
            "  [1a297f60] + FillArrays v0.8.10\n",
            "  [53c48c17] + FixedPointNumbers v0.8.0\n",
            "  [587475ba] + Flux v0.10.4\n",
            "  [f6369f11] + ForwardDiff v0.10.10\n",
            "  [7869d1d1] + IRTools v0.3.3\n",
            "  [e5e0dc1b] + Juno v0.8.2\n",
            "  [e89f7d12] + Media v0.5.0\n",
            "  [e1d29d7a] + Missings v0.4.3\n",
            "  [77ba4419] + NaNMath v0.3.3\n",
            "  [efe28fd5] + OpenSpecFun_jll v0.5.3+3\n",
            "  [a2af1166] + SortingAlgorithms v0.3.1\n",
            "  [276daf66] + SpecialFunctions v0.10.3\n",
            "  [90137ffa] + StaticArrays v0.12.3\n",
            "  [2913bbd2] + StatsBase v0.33.0\n",
            "  [3bb67fe8] + TranscodingStreams v0.9.5\n",
            "  [a5390f91] + ZipFile v0.9.2\n",
            "  [83775a58] + Zlib_jll v1.2.11+10\n",
            "  [e88e6eb3] + Zygote v0.4.20\n",
            "  [700de1a5] + ZygoteRules v0.2.0\n",
            "  [8bb1440f] + DelimitedFiles \n",
            "  [9fa8497b] + Future \n",
            "  [9abbd945] + Profile \n",
            "Precompiling project...\n"
          ],
          "name": "stdout"
        }
      ]
    },
    {
      "cell_type": "code",
      "metadata": {
        "id": "JGgVu3KRQWyw",
        "colab_type": "code",
        "outputId": "7c869f35-c7f1-433b-982a-8b6f4555d9ec",
        "colab": {
          "base_uri": "https://localhost:8080/",
          "height": 153
        }
      },
      "source": [
        "versioninfo()"
      ],
      "execution_count": 1,
      "outputs": [
        {
          "output_type": "stream",
          "text": [
            "Julia Version 1.4.2\n",
            "Commit 44fa15b150* (2020-05-23 18:35 UTC)\n",
            "Platform Info:\n",
            "  OS: Linux (x86_64-pc-linux-gnu)\n",
            "  CPU: Intel(R) Xeon(R) CPU @ 2.00GHz\n",
            "  WORD_SIZE: 64\n",
            "  LIBM: libopenlibm\n",
            "  LLVM: libLLVM-8.0.1 (ORCJIT, skylake)\n"
          ],
          "name": "stdout"
        }
      ]
    },
    {
      "cell_type": "markdown",
      "metadata": {
        "colab_type": "text",
        "id": "_lErbhVqX_ON"
      },
      "source": [
        "# Start Julia Project"
      ]
    },
    {
      "cell_type": "code",
      "metadata": {
        "id": "pY9tFv9uYO75",
        "colab_type": "code",
        "colab": {}
      },
      "source": [
        ""
      ],
      "execution_count": 0,
      "outputs": []
    }
  ]
}