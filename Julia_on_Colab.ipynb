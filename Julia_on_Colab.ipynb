{
  "nbformat": 4,
  "nbformat_minor": 0,
  "metadata": {
    "colab": {
      "name": "Julia on Colab.ipynb",
      "provenance": [],
      "collapsed_sections": [
        "y3fQT5o--txn",
        "yQoXUG9dE-OU",
        "mhD0p6aQHgPR"
      ],
      "include_colab_link": true
    },
    "kernelspec": {
      "name": "julia-1.4",
      "display_name": "Julia 1.4"
    },
    "accelerator": "GPU"
  },
  "cells": [
    {
      "cell_type": "markdown",
      "metadata": {
        "id": "view-in-github",
        "colab_type": "text"
      },
      "source": [
        "<a href=\"https://colab.research.google.com/github/olidew1/Test/blob/master/Julia_on_Colab.ipynb\" target=\"_parent\"><img src=\"https://colab.research.google.com/assets/colab-badge.svg\" alt=\"Open In Colab\"/></a>"
      ]
    },
    {
      "cell_type": "markdown",
      "metadata": {
        "id": "y3fQT5o--txn",
        "colab_type": "text"
      },
      "source": [
        "# Install CUDA"
      ]
    },
    {
      "cell_type": "code",
      "metadata": {
        "id": "h7lbKJvm-SLG",
        "colab_type": "code",
        "outputId": "881d1de0-4f9f-4442-dcdb-20966090c013",
        "colab": {
          "base_uri": "https://localhost:8080/",
          "height": 309
        }
      },
      "source": [
        "!wget https://developer.nvidia.com/compute/cuda/9.2/Prod/local_installers/cuda-repo-ubuntu1710-9-2-local_9.2.88-1_amd64"
      ],
      "execution_count": 1,
      "outputs": [
        {
          "output_type": "stream",
          "text": [
            "--2020-06-07 17:33:49--  https://developer.nvidia.com/compute/cuda/9.2/Prod/local_installers/cuda-repo-ubuntu1710-9-2-local_9.2.88-1_amd64\n",
            "Resolving developer.nvidia.com (developer.nvidia.com)... 152.199.16.29\n",
            "Connecting to developer.nvidia.com (developer.nvidia.com)|152.199.16.29|:443... connected.\n",
            "HTTP request sent, awaiting response... 302 Found\n",
            "Location: https://developer.download.nvidia.com/compute/cuda/9.2/secure/Prod/local_installers/cuda-repo-ubuntu1710-9-2-local_9.2.88-1_amd64.deb?HyWndh1KgVlL5rnlMI3FA38M5UOQKVq9QPBcJ6395SqPXk1flNyN-W7TZ4NwADRMZ4Aj1T-sDdrsO-X5LF7Q_StXqIU35vSUibHRlsuBiIsewBJ_eMpLZ91lfEwpOO7XTjoMUry3aVJ2WiE-XCgziP-FQymlolgrDLpe1togF-J8faLl_uJkpvHwrhpGtYLC31sviDluWiI0WA6g3CY [following]\n",
            "--2020-06-07 17:33:50--  https://developer.download.nvidia.com/compute/cuda/9.2/secure/Prod/local_installers/cuda-repo-ubuntu1710-9-2-local_9.2.88-1_amd64.deb?HyWndh1KgVlL5rnlMI3FA38M5UOQKVq9QPBcJ6395SqPXk1flNyN-W7TZ4NwADRMZ4Aj1T-sDdrsO-X5LF7Q_StXqIU35vSUibHRlsuBiIsewBJ_eMpLZ91lfEwpOO7XTjoMUry3aVJ2WiE-XCgziP-FQymlolgrDLpe1togF-J8faLl_uJkpvHwrhpGtYLC31sviDluWiI0WA6g3CY\n",
            "Resolving developer.download.nvidia.com (developer.download.nvidia.com)... 152.199.20.126\n",
            "Connecting to developer.download.nvidia.com (developer.download.nvidia.com)|152.199.20.126|:443... connected.\n",
            "HTTP request sent, awaiting response... 200 OK\n",
            "Length: 1269204396 (1.2G) [application/x-deb]\n",
            "Saving to: ‘cuda-repo-ubuntu1710-9-2-local_9.2.88-1_amd64’\n",
            "\n",
            "cuda-repo-ubuntu171 100%[===================>]   1.18G   255MB/s    in 4.9s    \n",
            "\n",
            "2020-06-07 17:33:54 (249 MB/s) - ‘cuda-repo-ubuntu1710-9-2-local_9.2.88-1_amd64’ saved [1269204396/1269204396]\n",
            "\n"
          ],
          "name": "stdout"
        }
      ]
    },
    {
      "cell_type": "code",
      "metadata": {
        "id": "xMcILMIABxgl",
        "colab_type": "code",
        "outputId": "48b35f97-3603-4734-cc95-96db7df15985",
        "colab": {
          "base_uri": "https://localhost:8080/",
          "height": 309
        }
      },
      "source": [
        "!wget https://developer.nvidia.com/compute/cuda/9.2/Prod/patches/1/cuda-repo-ubuntu1710-9-2-local-cublas-update-1_1.0-1_amd64"
      ],
      "execution_count": 2,
      "outputs": [
        {
          "output_type": "stream",
          "text": [
            "--2020-06-07 17:33:56--  https://developer.nvidia.com/compute/cuda/9.2/Prod/patches/1/cuda-repo-ubuntu1710-9-2-local-cublas-update-1_1.0-1_amd64\n",
            "Resolving developer.nvidia.com (developer.nvidia.com)... 152.199.0.24\n",
            "Connecting to developer.nvidia.com (developer.nvidia.com)|152.199.0.24|:443... connected.\n",
            "HTTP request sent, awaiting response... 302 Found\n",
            "Location: https://developer.download.nvidia.com/compute/cuda/9.2/secure/Prod/patches/1/cuda-repo-ubuntu1710-9-2-local-cublas-update-1_1.0-1_amd64.deb?dlydRRE8-hlCIwKSZjaAv_r8iuVLyw1G4kWvhNmylzpfrCszQNvK8MBq38v8YuPiipCVKkYq65KTjDNNbytLOZjKnd2MFqlrr399k64vhDW8OZQrIUgEMHOO2vcE_i-YD5325Cgn-mrwdUpDsz7b2DFXZIbT_56D9cDv0V5GxlLdyIbpbB2PdIwtpEP2NXXYJYO1V0CMOuj_-2VWxa-jUOtnMfM [following]\n",
            "--2020-06-07 17:33:56--  https://developer.download.nvidia.com/compute/cuda/9.2/secure/Prod/patches/1/cuda-repo-ubuntu1710-9-2-local-cublas-update-1_1.0-1_amd64.deb?dlydRRE8-hlCIwKSZjaAv_r8iuVLyw1G4kWvhNmylzpfrCszQNvK8MBq38v8YuPiipCVKkYq65KTjDNNbytLOZjKnd2MFqlrr399k64vhDW8OZQrIUgEMHOO2vcE_i-YD5325Cgn-mrwdUpDsz7b2DFXZIbT_56D9cDv0V5GxlLdyIbpbB2PdIwtpEP2NXXYJYO1V0CMOuj_-2VWxa-jUOtnMfM\n",
            "Resolving developer.download.nvidia.com (developer.download.nvidia.com)... 152.199.20.126\n",
            "Connecting to developer.download.nvidia.com (developer.download.nvidia.com)|152.199.20.126|:443... connected.\n",
            "HTTP request sent, awaiting response... 200 OK\n",
            "Length: 98576578 (94M) [application/x-deb]\n",
            "Saving to: ‘cuda-repo-ubuntu1710-9-2-local-cublas-update-1_1.0-1_amd64’\n",
            "\n",
            "cuda-repo-ubuntu171 100%[===================>]  94.01M   230MB/s    in 0.4s    \n",
            "\n",
            "2020-06-07 17:33:57 (230 MB/s) - ‘cuda-repo-ubuntu1710-9-2-local-cublas-update-1_1.0-1_amd64’ saved [98576578/98576578]\n",
            "\n"
          ],
          "name": "stdout"
        }
      ]
    },
    {
      "cell_type": "code",
      "metadata": {
        "id": "L2s4pxq6Cn2b",
        "colab_type": "code",
        "outputId": "ac926604-295e-4beb-ee55-bd1d8ad48c4f",
        "colab": {
          "base_uri": "https://localhost:8080/",
          "height": 102
        }
      },
      "source": [
        "!dpkg -i cuda-repo-ubuntu1710-9-2-local_9.2.88-1_amd64"
      ],
      "execution_count": 3,
      "outputs": [
        {
          "output_type": "stream",
          "text": [
            "Selecting previously unselected package cuda-repo-ubuntu1710-9-2-local.\n",
            "(Reading database ... 144467 files and directories currently installed.)\n",
            "Preparing to unpack cuda-repo-ubuntu1710-9-2-local_9.2.88-1_amd64 ...\n",
            "Unpacking cuda-repo-ubuntu1710-9-2-local (9.2.88-1) ...\n",
            "Setting up cuda-repo-ubuntu1710-9-2-local (9.2.88-1) ...\n"
          ],
          "name": "stdout"
        }
      ]
    },
    {
      "cell_type": "code",
      "metadata": {
        "id": "Ox-rLzKqDQzw",
        "colab_type": "code",
        "outputId": "733722ee-a1ec-4dcd-a685-445283a12586",
        "colab": {
          "base_uri": "https://localhost:8080/",
          "height": 54
        }
      },
      "source": [
        "!apt-key add /var/cuda-repo-9-2-local/7fa2af80.pub"
      ],
      "execution_count": 4,
      "outputs": [
        {
          "output_type": "stream",
          "text": [
            "OK\n"
          ],
          "name": "stdout"
        }
      ]
    },
    {
      "cell_type": "code",
      "metadata": {
        "id": "50rnK3u2DW5I",
        "colab_type": "code",
        "outputId": "3425e205-ea4d-458f-c6c1-08db6cc93057",
        "colab": {
          "base_uri": "https://localhost:8080/",
          "height": 547
        }
      },
      "source": [
        "!apt-get update"
      ],
      "execution_count": 5,
      "outputs": [
        {
          "output_type": "stream",
          "text": [
            "\r0% [Working]\r            \rGet:1 file:/var/cuda-repo-9-2-local  InRelease\n",
            "\r            \rIgn:1 file:/var/cuda-repo-9-2-local  InRelease\n",
            "\r0% [Connecting to security.ubuntu.com] [Connecting to cloud.r-project.org] [Con\r                                                                               \rGet:2 file:/var/cuda-repo-9-2-local  Release [574 B]\n",
            "\r0% [Connecting to security.ubuntu.com] [Connecting to cloud.r-project.org] [Con\r                                                                               \rGet:2 file:/var/cuda-repo-9-2-local  Release [574 B]\n",
            "\r0% [2 Release 0 B/574 B 0%] [Connecting to archive.ubuntu.com] [Connecting to s\r0% [Connecting to archive.ubuntu.com] [Connecting to security.ubuntu.com (91.18\r                                                                               \rGet:3 file:/var/cuda-repo-9-2-local  Release.gpg [801 B]\n",
            "\r0% [Connecting to archive.ubuntu.com] [Connecting to security.ubuntu.com (91.18\r                                                                               \rGet:3 file:/var/cuda-repo-9-2-local  Release.gpg [801 B]\n",
            "\r0% [3 Release.gpg 0 B/801 B 0%] [Connecting to archive.ubuntu.com] [Connecting \r0% [Connecting to archive.ubuntu.com] [Connecting to security.ubuntu.com (91.18\r                                                                               \rGet:4 http://ppa.launchpad.net/graphics-drivers/ppa/ubuntu bionic InRelease [21.3 kB]\n",
            "\r0% [Connecting to archive.ubuntu.com (91.189.88.142)] [Connecting to security.u\r0% [3 Release.gpg gpgv 574 B] [Connecting to archive.ubuntu.com (91.189.88.142)\r0% [3 Release.gpg gpgv 574 B] [Waiting for headers] [Connecting to security.ubu\r                                                                               \rHit:5 http://archive.ubuntu.com/ubuntu bionic InRelease\n",
            "\r0% [3 Release.gpg gpgv 574 B] [Waiting for headers] [Connecting to security.ubu\r                                                                               \rGet:6 http://archive.ubuntu.com/ubuntu bionic-updates InRelease [88.7 kB]\n",
            "\r0% [3 Release.gpg gpgv 574 B] [6 InRelease 15.6 kB/88.7 kB 18%] [Connecting to \r                                                                               \rGet:7 http://ppa.launchpad.net/marutter/c2d4u3.5/ubuntu bionic InRelease [15.4 kB]\n",
            "\r0% [3 Release.gpg gpgv 574 B] [6 InRelease 15.6 kB/88.7 kB 18%] [Connecting to \r0% [3 Release.gpg gpgv 574 B] [6 InRelease 15.6 kB/88.7 kB 18%] [Connecting to \r0% [3 Release.gpg gpgv 574 B] [Waiting for headers] [Waiting for headers] [Wait\r                                                                               \rGet:8 https://cloud.r-project.org/bin/linux/ubuntu bionic-cran35/ InRelease [3,626 B]\n",
            "\r0% [3 Release.gpg gpgv 574 B] [Waiting for headers] [Waiting for headers] [Wait\r                                                                               \rGet:9 http://archive.ubuntu.com/ubuntu bionic-backports InRelease [74.6 kB]\n",
            "\r0% [3 Release.gpg gpgv 574 B] [9 InRelease 8,393 B/74.6 kB 11%] [Waiting for he\r                                                                               \r0% [3 Release.gpg gpgv 574 B] [Waiting for headers] [Waiting for headers]\r                                                                         \rGet:10 http://security.ubuntu.com/ubuntu bionic-security InRelease [88.7 kB]\n",
            "\r0% [3 Release.gpg gpgv 574 B] [10 InRelease 2,586 B/88.7 kB 3%] [Waiting for he\r                                                                               \r0% [10 InRelease 14.2 kB/88.7 kB 16%] [Waiting for headers]\r                                                           \rGet:11 file:/var/cuda-repo-9-2-local  Packages [18.7 kB]\n",
            "Ign:12 https://developer.download.nvidia.com/compute/cuda/repos/ubuntu1804/x86_64  InRelease\n",
            "Ign:13 https://developer.download.nvidia.com/compute/machine-learning/repos/ubuntu1804/x86_64  InRelease\n",
            "Get:14 https://developer.download.nvidia.com/compute/cuda/repos/ubuntu1804/x86_64  Release [697 B]\n",
            "Hit:15 https://developer.download.nvidia.com/compute/machine-learning/repos/ubuntu1804/x86_64  Release\n",
            "Get:16 https://developer.download.nvidia.com/compute/cuda/repos/ubuntu1804/x86_64  Release.gpg [836 B]\n",
            "Get:17 http://ppa.launchpad.net/graphics-drivers/ppa/ubuntu bionic/main amd64 Packages [37.4 kB]\n",
            "Get:18 http://ppa.launchpad.net/marutter/c2d4u3.5/ubuntu bionic/main Sources [1,830 kB]\n",
            "Get:19 http://archive.ubuntu.com/ubuntu bionic-updates/universe amd64 Packages [1,387 kB]\n",
            "Get:20 http://archive.ubuntu.com/ubuntu bionic-updates/main amd64 Packages [1,230 kB]\n",
            "Get:21 http://ppa.launchpad.net/marutter/c2d4u3.5/ubuntu bionic/main amd64 Packages [882 kB]\n",
            "Get:22 http://security.ubuntu.com/ubuntu bionic-security/universe amd64 Packages [856 kB]\n",
            "Ign:24 https://developer.download.nvidia.com/compute/cuda/repos/ubuntu1804/x86_64  Packages\n",
            "Get:25 http://security.ubuntu.com/ubuntu bionic-security/main amd64 Packages [933 kB]\n",
            "Get:24 https://developer.download.nvidia.com/compute/cuda/repos/ubuntu1804/x86_64  Packages [162 kB]\n",
            "Fetched 7,612 kB in 2s (3,376 kB/s)\n",
            "Reading package lists... Done\n"
          ],
          "name": "stdout"
        }
      ]
    },
    {
      "cell_type": "code",
      "metadata": {
        "id": "yiHjgIZyDaEB",
        "colab_type": "code",
        "outputId": "ccb5763e-df67-4f72-e6cc-433137b2be92",
        "colab": {
          "base_uri": "https://localhost:8080/",
          "height": 1000
        }
      },
      "source": [
        "!apt-get install cuda"
      ],
      "execution_count": 6,
      "outputs": [
        {
          "output_type": "stream",
          "text": [
            "Reading package lists... Done\n",
            "Building dependency tree       \n",
            "Reading state information... Done\n",
            "The following packages were automatically installed and are no longer required:\n",
            "  libnvidia-common-440 libnvidia-extra-440\n",
            "Use 'apt autoremove' to remove them.\n",
            "The following additional packages will be installed:\n",
            "  cuda-11-0 cuda-command-line-tools-11-0 cuda-compiler-11-0 cuda-cudart-11-0\n",
            "  cuda-cudart-dev-11-0 cuda-cuobjdump-11-0 cuda-cupti-11-0 cuda-cupti-dev-11-0\n",
            "  cuda-demo-suite-11-0 cuda-documentation-11-0 cuda-driver-dev-11-0\n",
            "  cuda-drivers cuda-drivers-450 cuda-gdb-11-0 cuda-libraries-11-0\n",
            "  cuda-libraries-dev-11-0 cuda-memcheck-11-0 cuda-nsight-11-0\n",
            "  cuda-nsight-compute-11-0 cuda-nsight-systems-11-0 cuda-nvcc-11-0\n",
            "  cuda-nvdisasm-11-0 cuda-nvml-dev-11-0 cuda-nvprof-11-0 cuda-nvprune-11-0\n",
            "  cuda-nvrtc-11-0 cuda-nvrtc-dev-11-0 cuda-nvtx-11-0 cuda-nvvp-11-0\n",
            "  cuda-runtime-11-0 cuda-samples-11-0 cuda-sanitizer-11-0 cuda-toolkit-11-0\n",
            "  cuda-tools-11-0 cuda-visual-tools-11-0 libcublas-11-0 libcublas-dev-11-0\n",
            "  libcufft-11-0 libcufft-dev-11-0 libcurand-11-0 libcurand-dev-11-0\n",
            "  libcusolver-11-0 libcusolver-dev-11-0 libcusparse-11-0 libcusparse-dev-11-0\n",
            "  libnpp-11-0 libnpp-dev-11-0 libnvidia-cfg1-450 libnvidia-common-450\n",
            "  libnvidia-compute-450 libnvidia-decode-450 libnvidia-encode-450\n",
            "  libnvidia-extra-440 libnvidia-fbc1-450 libnvidia-gl-450 libnvidia-ifr1-450\n",
            "  libnvjpeg-11-0 libnvjpeg-dev-11-0 nvidia-compute-utils-450 nvidia-dkms-450\n",
            "  nvidia-driver-450 nvidia-kernel-common-450 nvidia-kernel-source-450\n",
            "  nvidia-modprobe nvidia-settings nvidia-utils-450\n",
            "  xserver-xorg-video-nvidia-450\n",
            "The following packages will be REMOVED:\n",
            "  libnvidia-cfg1-418 libnvidia-cfg1-430 libnvidia-cfg1-440\n",
            "  libnvidia-compute-418 libnvidia-compute-430 libnvidia-compute-440\n",
            "  libnvidia-decode-440 libnvidia-encode-440 libnvidia-fbc1-440\n",
            "  libnvidia-gl-418 libnvidia-gl-430 libnvidia-gl-440 libnvidia-ifr1-440\n",
            "  nvidia-compute-utils-440 nvidia-dkms-440 nvidia-driver-440\n",
            "  nvidia-kernel-common-440 nvidia-kernel-source-440 nvidia-utils-440\n",
            "  xserver-xorg-video-nvidia-440\n",
            "The following NEW packages will be installed:\n",
            "  cuda cuda-11-0 cuda-command-line-tools-11-0 cuda-compiler-11-0\n",
            "  cuda-cudart-11-0 cuda-cudart-dev-11-0 cuda-cuobjdump-11-0 cuda-cupti-11-0\n",
            "  cuda-cupti-dev-11-0 cuda-demo-suite-11-0 cuda-documentation-11-0\n",
            "  cuda-driver-dev-11-0 cuda-drivers-450 cuda-gdb-11-0 cuda-libraries-11-0\n",
            "  cuda-libraries-dev-11-0 cuda-memcheck-11-0 cuda-nsight-11-0\n",
            "  cuda-nsight-compute-11-0 cuda-nsight-systems-11-0 cuda-nvcc-11-0\n",
            "  cuda-nvdisasm-11-0 cuda-nvml-dev-11-0 cuda-nvprof-11-0 cuda-nvprune-11-0\n",
            "  cuda-nvrtc-11-0 cuda-nvrtc-dev-11-0 cuda-nvtx-11-0 cuda-nvvp-11-0\n",
            "  cuda-runtime-11-0 cuda-samples-11-0 cuda-sanitizer-11-0 cuda-toolkit-11-0\n",
            "  cuda-tools-11-0 cuda-visual-tools-11-0 libcublas-11-0 libcublas-dev-11-0\n",
            "  libcufft-11-0 libcufft-dev-11-0 libcurand-11-0 libcurand-dev-11-0\n",
            "  libcusolver-11-0 libcusolver-dev-11-0 libcusparse-11-0 libcusparse-dev-11-0\n",
            "  libnpp-11-0 libnpp-dev-11-0 libnvidia-cfg1-450 libnvidia-common-450\n",
            "  libnvidia-compute-450 libnvidia-decode-450 libnvidia-encode-450\n",
            "  libnvidia-fbc1-450 libnvidia-gl-450 libnvidia-ifr1-450 libnvjpeg-11-0\n",
            "  libnvjpeg-dev-11-0 nvidia-compute-utils-450 nvidia-dkms-450\n",
            "  nvidia-driver-450 nvidia-kernel-common-450 nvidia-kernel-source-450\n",
            "  nvidia-utils-450 xserver-xorg-video-nvidia-450\n",
            "The following packages will be upgraded:\n",
            "  cuda-drivers libnvidia-extra-440 nvidia-modprobe nvidia-settings\n",
            "4 upgraded, 64 newly installed, 20 to remove and 46 not upgraded.\n",
            "Need to get 1,604 MB of archives.\n",
            "After this operation, 3,803 MB of additional disk space will be used.\n",
            "Get:1 http://ppa.launchpad.net/graphics-drivers/ppa/ubuntu bionic/main amd64 libnvidia-extra-440 amd64 440.82-0ubuntu0~0.18.04.2 [40.5 kB]\n",
            "Get:2 https://developer.download.nvidia.com/compute/cuda/repos/ubuntu1804/x86_64  libnvidia-common-450 450.36.06-0ubuntu1 [10.2 kB]\n",
            "Get:3 https://developer.download.nvidia.com/compute/cuda/repos/ubuntu1804/x86_64  cuda-drivers 450.36.06-1 [2,500 B]\n",
            "Get:4 https://developer.download.nvidia.com/compute/cuda/repos/ubuntu1804/x86_64  libnvidia-compute-450 450.36.06-0ubuntu1 [21.8 MB]\n",
            "Get:5 https://developer.download.nvidia.com/compute/cuda/repos/ubuntu1804/x86_64  libnvidia-decode-450 450.36.06-0ubuntu1 [1,101 kB]\n",
            "Get:6 https://developer.download.nvidia.com/compute/cuda/repos/ubuntu1804/x86_64  libnvidia-encode-450 450.36.06-0ubuntu1 [39.2 kB]\n",
            "Get:7 https://developer.download.nvidia.com/compute/cuda/repos/ubuntu1804/x86_64  libnvidia-fbc1-450 450.36.06-0ubuntu1 [49.7 kB]\n",
            "Get:8 https://developer.download.nvidia.com/compute/cuda/repos/ubuntu1804/x86_64  libnvidia-gl-450 450.36.06-0ubuntu1 [60.3 MB]\n",
            "Get:9 https://developer.download.nvidia.com/compute/cuda/repos/ubuntu1804/x86_64  libnvidia-ifr1-450 450.36.06-0ubuntu1 [68.4 kB]\n",
            "Get:10 https://developer.download.nvidia.com/compute/cuda/repos/ubuntu1804/x86_64  nvidia-compute-utils-450 450.36.06-0ubuntu1 [123 kB]\n",
            "Get:11 https://developer.download.nvidia.com/compute/cuda/repos/ubuntu1804/x86_64  nvidia-kernel-source-450 450.36.06-0ubuntu1 [11.8 MB]\n",
            "Get:12 https://developer.download.nvidia.com/compute/cuda/repos/ubuntu1804/x86_64  nvidia-kernel-common-450 450.36.06-0ubuntu1 [9,810 B]\n",
            "Get:13 https://developer.download.nvidia.com/compute/cuda/repos/ubuntu1804/x86_64  nvidia-dkms-450 450.36.06-0ubuntu1 [26.7 kB]\n",
            "Get:14 https://developer.download.nvidia.com/compute/cuda/repos/ubuntu1804/x86_64  nvidia-utils-450 450.36.06-0ubuntu1 [366 kB]\n",
            "Get:15 https://developer.download.nvidia.com/compute/cuda/repos/ubuntu1804/x86_64  libnvidia-cfg1-450 450.36.06-0ubuntu1 [74.5 kB]\n",
            "Get:16 https://developer.download.nvidia.com/compute/cuda/repos/ubuntu1804/x86_64  xserver-xorg-video-nvidia-450 450.36.06-0ubuntu1 [1,534 kB]\n",
            "Get:17 https://developer.download.nvidia.com/compute/cuda/repos/ubuntu1804/x86_64  nvidia-driver-450 450.36.06-0ubuntu1 [417 kB]\n",
            "Get:18 https://developer.download.nvidia.com/compute/cuda/repos/ubuntu1804/x86_64  nvidia-modprobe 450.36.06-0ubuntu1 [19.1 kB]\n",
            "Get:19 https://developer.download.nvidia.com/compute/cuda/repos/ubuntu1804/x86_64  nvidia-settings 450.36.06-0ubuntu1 [921 kB]\n",
            "Get:20 https://developer.download.nvidia.com/compute/cuda/repos/ubuntu1804/x86_64  cuda-drivers-450 450.36.06-1 [2,624 B]\n",
            "Get:21 https://developer.download.nvidia.com/compute/cuda/repos/ubuntu1804/x86_64  cuda-cudart-11-0 11.0.171-1 [129 kB]\n",
            "Get:22 https://developer.download.nvidia.com/compute/cuda/repos/ubuntu1804/x86_64  cuda-nvrtc-11-0 11.0.167-1 [6,513 kB]\n",
            "Get:23 https://developer.download.nvidia.com/compute/cuda/repos/ubuntu1804/x86_64  libcublas-11-0 11.0.0.191-1 [99.9 MB]\n",
            "Get:24 https://developer.download.nvidia.com/compute/cuda/repos/ubuntu1804/x86_64  libcufft-11-0 10.1.3.191-1 [92.6 MB]\n",
            "Get:25 https://developer.download.nvidia.com/compute/cuda/repos/ubuntu1804/x86_64  libcurand-11-0 10.2.0.191-1 [39.0 MB]\n",
            "Get:26 https://developer.download.nvidia.com/compute/cuda/repos/ubuntu1804/x86_64  libcusolver-11-0 10.4.0.191-1 [253 MB]\n",
            "Get:27 https://developer.download.nvidia.com/compute/cuda/repos/ubuntu1804/x86_64  libcusparse-11-0 11.0.0.191-1 [62.3 MB]\n",
            "Get:28 https://developer.download.nvidia.com/compute/cuda/repos/ubuntu1804/x86_64  libnpp-11-0 11.0.0.191-1 [56.2 MB]\n",
            "Get:29 https://developer.download.nvidia.com/compute/cuda/repos/ubuntu1804/x86_64  libnvjpeg-11-0 11.0.0.191-1 [1,386 kB]\n",
            "Get:30 https://developer.download.nvidia.com/compute/cuda/repos/ubuntu1804/x86_64  cuda-libraries-11-0 11.0.1-1 [2,466 B]\n",
            "Get:31 https://developer.download.nvidia.com/compute/cuda/repos/ubuntu1804/x86_64  cuda-runtime-11-0 11.0.1-1 [2,408 B]\n",
            "Get:32 https://developer.download.nvidia.com/compute/cuda/repos/ubuntu1804/x86_64  cuda-cuobjdump-11-0 11.0.167-1 [102 kB]\n",
            "Get:33 https://developer.download.nvidia.com/compute/cuda/repos/ubuntu1804/x86_64  cuda-driver-dev-11-0 11.0.171-1 [25.1 kB]\n",
            "Get:34 https://developer.download.nvidia.com/compute/cuda/repos/ubuntu1804/x86_64  cuda-cudart-dev-11-0 11.0.171-1 [1,659 kB]\n",
            "Get:35 https://developer.download.nvidia.com/compute/cuda/repos/ubuntu1804/x86_64  cuda-nvcc-11-0 11.0.167-1 [21.0 MB]\n",
            "Get:36 https://developer.download.nvidia.com/compute/cuda/repos/ubuntu1804/x86_64  cuda-nvprune-11-0 11.0.167-1 [53.1 kB]\n",
            "Get:37 https://developer.download.nvidia.com/compute/cuda/repos/ubuntu1804/x86_64  cuda-compiler-11-0 11.0.1-1 [2,400 B]\n",
            "Get:38 https://developer.download.nvidia.com/compute/cuda/repos/ubuntu1804/x86_64  cuda-nvrtc-dev-11-0 11.0.167-1 [21.6 kB]\n",
            "Get:39 https://developer.download.nvidia.com/compute/cuda/repos/ubuntu1804/x86_64  libcublas-dev-11-0 11.0.0.191-1 [102 MB]\n",
            "Get:40 https://developer.download.nvidia.com/compute/cuda/repos/ubuntu1804/x86_64  libcufft-dev-11-0 10.1.3.191-1 [170 MB]\n",
            "Get:41 https://developer.download.nvidia.com/compute/cuda/repos/ubuntu1804/x86_64  libcurand-dev-11-0 10.2.0.191-1 [39.2 MB]\n",
            "Get:42 https://developer.download.nvidia.com/compute/cuda/repos/ubuntu1804/x86_64  libcusolver-dev-11-0 10.4.0.191-1 [17.9 MB]\n",
            "Get:43 https://developer.download.nvidia.com/compute/cuda/repos/ubuntu1804/x86_64  libcusparse-dev-11-0 11.0.0.191-1 [62.5 MB]\n",
            "Get:44 https://developer.download.nvidia.com/compute/cuda/repos/ubuntu1804/x86_64  libnpp-dev-11-0 11.0.0.191-1 [57.0 MB]\n",
            "Get:45 https://developer.download.nvidia.com/compute/cuda/repos/ubuntu1804/x86_64  libnvjpeg-dev-11-0 11.0.0.191-1 [1,318 kB]\n",
            "Get:46 https://developer.download.nvidia.com/compute/cuda/repos/ubuntu1804/x86_64  cuda-libraries-dev-11-0 11.0.1-1 [2,484 B]\n",
            "Get:47 https://developer.download.nvidia.com/compute/cuda/repos/ubuntu1804/x86_64  cuda-cupti-11-0 11.0.167-1 [10.3 MB]\n",
            "Get:48 https://developer.download.nvidia.com/compute/cuda/repos/ubuntu1804/x86_64  cuda-cupti-dev-11-0 11.0.167-1 [2,282 kB]\n",
            "Get:49 https://developer.download.nvidia.com/compute/cuda/repos/ubuntu1804/x86_64  cuda-nvdisasm-11-0 11.0.167-1 [28.2 MB]\n",
            "Get:50 https://developer.download.nvidia.com/compute/cuda/repos/ubuntu1804/x86_64  cuda-gdb-11-0 11.0.172-1 [3,829 kB]\n",
            "Get:51 https://developer.download.nvidia.com/compute/cuda/repos/ubuntu1804/x86_64  cuda-memcheck-11-0 11.0.167-1 [144 kB]\n",
            "Get:52 https://developer.download.nvidia.com/compute/cuda/repos/ubuntu1804/x86_64  cuda-nvprof-11-0 11.0.167-1 [1,912 kB]\n",
            "Get:53 https://developer.download.nvidia.com/compute/cuda/repos/ubuntu1804/x86_64  cuda-nvtx-11-0 11.0.167-1 [51.1 kB]\n",
            "Get:54 https://developer.download.nvidia.com/compute/cuda/repos/ubuntu1804/x86_64  cuda-sanitizer-11-0 11.0.167-1 [7,010 kB]\n",
            "Get:55 https://developer.download.nvidia.com/compute/cuda/repos/ubuntu1804/x86_64  cuda-command-line-tools-11-0 11.0.1-1 [2,456 B]\n",
            "Get:56 https://developer.download.nvidia.com/compute/cuda/repos/ubuntu1804/x86_64  cuda-nsight-compute-11-0 11.0.1-1 [3,684 B]\n",
            "Get:57 https://developer.download.nvidia.com/compute/cuda/repos/ubuntu1804/x86_64  cuda-nsight-systems-11-0 11.0.1-1 [3,248 B]\n",
            "Get:58 https://developer.download.nvidia.com/compute/cuda/repos/ubuntu1804/x86_64  cuda-nsight-11-0 11.0.167-1 [119 MB]\n",
            "Get:59 https://developer.download.nvidia.com/compute/cuda/repos/ubuntu1804/x86_64  cuda-nvml-dev-11-0 11.0.167-1 [71.9 kB]\n",
            "Get:60 https://developer.download.nvidia.com/compute/cuda/repos/ubuntu1804/x86_64  cuda-nvvp-11-0 11.0.167-1 [115 MB]\n",
            "Get:61 https://developer.download.nvidia.com/compute/cuda/repos/ubuntu1804/x86_64  cuda-visual-tools-11-0 11.0.1-1 [2,912 B]\n",
            "Get:62 https://developer.download.nvidia.com/compute/cuda/repos/ubuntu1804/x86_64  cuda-tools-11-0 11.0.1-1 [2,360 B]\n",
            "Get:63 https://developer.download.nvidia.com/compute/cuda/repos/ubuntu1804/x86_64  cuda-samples-11-0 11.0.167-1 [68.1 MB]\n",
            "Get:64 https://developer.download.nvidia.com/compute/cuda/repos/ubuntu1804/x86_64  cuda-documentation-11-0 11.0.182-1 [63.1 MB]\n",
            "Get:65 https://developer.download.nvidia.com/compute/cuda/repos/ubuntu1804/x86_64  cuda-toolkit-11-0 11.0.1-1 [2,708 B]\n",
            "Get:66 https://developer.download.nvidia.com/compute/cuda/repos/ubuntu1804/x86_64  cuda-demo-suite-11-0 11.0.167-1 [3,948 kB]\n",
            "Get:67 https://developer.download.nvidia.com/compute/cuda/repos/ubuntu1804/x86_64  cuda-11-0 11.0.1-1 [2,434 B]\n",
            "Get:68 https://developer.download.nvidia.com/compute/cuda/repos/ubuntu1804/x86_64  cuda 11.0.1-1 [2,380 B]\n",
            "Fetched 1,604 MB in 30s (54.2 MB/s)\n",
            "Extracting templates from packages: 100%\n",
            "(Reading database ... 144540 files and directories currently installed.)\n",
            "Removing libnvidia-cfg1-418:amd64 (430.64-0ubuntu0~gpu18.04.1) ...\n",
            "Removing libnvidia-cfg1-430:amd64 (440.59-0ubuntu0.18.04.1) ...\n",
            "Selecting previously unselected package libnvidia-common-450.\n",
            "(Reading database ... 144534 files and directories currently installed.)\n",
            "Preparing to unpack .../libnvidia-common-450_450.36.06-0ubuntu1_all.deb ...\n",
            "Checking for existing driver runfile install\n",
            "/var/lib/dpkg/tmp.ci/preinst: 6: /var/lib/dpkg/tmp.ci/preinst: [[: not found\n",
            "Unpacking libnvidia-common-450 (450.36.06-0ubuntu1) ...\n",
            "Preparing to unpack .../cuda-drivers_450.36.06-1_amd64.deb ...\n",
            "Unpacking cuda-drivers (450.36.06-1) over (440.64.00-1) ...\n",
            "(Reading database ... 144539 files and directories currently installed.)\n",
            "Removing nvidia-driver-440 (440.82-0ubuntu0~0.18.04.1) ...\n",
            "Removing libnvidia-ifr1-440:amd64 (440.82-0ubuntu0~0.18.04.1) ...\n",
            "Removing libnvidia-gl-418:amd64 (430.64-0ubuntu0~gpu18.04.1) ...\n",
            "Removing libnvidia-gl-430:amd64 (440.59-0ubuntu0.18.04.1) ...\n",
            "Removing libnvidia-gl-440:amd64 (440.82-0ubuntu0~0.18.04.1) ...\n",
            "Removing nvidia-compute-utils-440 (440.82-0ubuntu0~0.18.04.1) ...\n",
            "System has not been booted with systemd as init system (PID 1). Can't operate.\n",
            "dpkg: libnvidia-compute-440:amd64: dependency problems, but removing anyway as you requested:\n",
            " libnvidia-decode-440:amd64 depends on libnvidia-compute-440 (= 440.82-0ubuntu0~0.18.04.1).\n",
            " libnvidia-compute-430:amd64 depends on libnvidia-compute-440.\n",
            " nvidia-utils-440 depends on libnvidia-compute-440.\n",
            "\n",
            "Removing libnvidia-compute-440:amd64 (440.82-0ubuntu0~0.18.04.1) ...\n",
            "Selecting previously unselected package libnvidia-compute-450:amd64.\n",
            "(Reading database ... 144406 files and directories currently installed.)\n",
            "Preparing to unpack .../libnvidia-compute-450_450.36.06-0ubuntu1_amd64.deb ...\n",
            "Unpacking libnvidia-compute-450:amd64 (450.36.06-0ubuntu1) ...\n",
            "dpkg: error processing archive /var/cache/apt/archives/libnvidia-compute-450_450.36.06-0ubuntu1_amd64.deb (--unpack):\n",
            " trying to overwrite '/usr/lib/x86_64-linux-gnu/libnvidia-allocator.so', which is also in package libnvidia-extra-440:amd64 440.82-0ubuntu0~0.18.04.1\n",
            "Errors were encountered while processing:\n",
            " /var/cache/apt/archives/libnvidia-compute-450_450.36.06-0ubuntu1_amd64.deb\n",
            "E: Sub-process /usr/bin/dpkg returned an error code (1)\n"
          ],
          "name": "stdout"
        }
      ]
    },
    {
      "cell_type": "code",
      "metadata": {
        "id": "DdAomzZjE2ap",
        "colab_type": "code",
        "outputId": "7b977ee6-0d2a-4197-e03a-97e09c4c0f33",
        "colab": {
          "base_uri": "https://localhost:8080/",
          "height": 122
        }
      },
      "source": [
        "!dpkg -i cuda-repo-ubuntu1710-9-2-local-cublas-update-1_1.0-1_amd64"
      ],
      "execution_count": 7,
      "outputs": [
        {
          "output_type": "stream",
          "text": [
            "Selecting previously unselected package cuda-repo-ubuntu1710-9-2-local-cublas-update-1.\n",
            "(Reading database ... \r(Reading database ... 5%\r(Reading database ... 10%\r(Reading database ... 15%\r(Reading database ... 20%\r(Reading database ... 25%\r(Reading database ... 30%\r(Reading database ... 35%\r(Reading database ... 40%\r(Reading database ... 45%\r(Reading database ... 50%\r(Reading database ... 55%\r(Reading database ... 60%\r(Reading database ... 65%\r(Reading database ... 70%\r(Reading database ... 75%\r(Reading database ... 80%\r(Reading database ... 85%\r(Reading database ... 90%\r(Reading database ... 95%\r(Reading database ... 100%\r(Reading database ... 144406 files and directories currently installed.)\n",
            "Preparing to unpack cuda-repo-ubuntu1710-9-2-local-cublas-update-1_1.0-1_amd64 ...\n",
            "Unpacking cuda-repo-ubuntu1710-9-2-local-cublas-update-1 (1.0-1) ...\n",
            "Setting up cuda-repo-ubuntu1710-9-2-local-cublas-update-1 (1.0-1) ...\n"
          ],
          "name": "stdout"
        }
      ]
    },
    {
      "cell_type": "code",
      "metadata": {
        "id": "AKVsaAAsG6CC",
        "colab_type": "code",
        "outputId": "ece9f894-37fc-47fa-fa22-00d00d626b2a",
        "colab": {
          "base_uri": "https://localhost:8080/",
          "height": 71
        }
      },
      "source": [
        "!ls"
      ],
      "execution_count": 8,
      "outputs": [
        {
          "output_type": "stream",
          "text": [
            "cuda-repo-ubuntu1710-9-2-local_9.2.88-1_amd64\t\t    sample_data\n",
            "cuda-repo-ubuntu1710-9-2-local-cublas-update-1_1.0-1_amd64\n"
          ],
          "name": "stdout"
        }
      ]
    },
    {
      "cell_type": "markdown",
      "metadata": {
        "id": "yQoXUG9dE-OU",
        "colab_type": "text"
      },
      "source": [
        "# Install CUDA Toolkit"
      ]
    },
    {
      "cell_type": "code",
      "metadata": {
        "id": "nsyMK9fxFHcO",
        "colab_type": "code",
        "outputId": "7cd78e53-d814-4595-cdcf-0eeb6f4d6d3e",
        "colab": {
          "base_uri": "https://localhost:8080/",
          "height": 561
        }
      },
      "source": [
        "!apt-get install nvidia-cuda-toolkit"
      ],
      "execution_count": 9,
      "outputs": [
        {
          "output_type": "stream",
          "text": [
            "Reading package lists... Done\n",
            "Building dependency tree       \n",
            "Reading state information... Done\n",
            "You might want to run 'apt --fix-broken install' to correct these.\n",
            "The following packages have unmet dependencies:\n",
            " cuda-drivers : Depends: cuda-drivers-450 (= 450.36.06-1) but it is not going to be installed\n",
            " libnvidia-compute-430 : Depends: libnvidia-compute-440 but it is not going to be installed\n",
            " libnvidia-decode-440 : Depends: libnvidia-compute-440 (= 440.82-0ubuntu0~0.18.04.1) but it is not going to be installed\n",
            " nvidia-cuda-toolkit : Depends: nvidia-profiler (= 9.1.85-3ubuntu1) but it is not going to be installed\n",
            "                       Depends: nvidia-cuda-dev (= 9.1.85-3ubuntu1) but it is not going to be installed\n",
            "                       Depends: gcc-6 but it is not going to be installed or\n",
            "                                clang-4.0 but it is not going to be installed or\n",
            "                                clang-3.9 but it is not going to be installed or\n",
            "                                clang-3.8 but it is not installable or\n",
            "                                clang (< 1:5~) but 1:6.0-41~exp5~ubuntu1 is to be installed or\n",
            "                                gcc-5 but it is not going to be installed or\n",
            "                                gcc-4.9 but it is not installable or\n",
            "                                gcc-4.8 but it is not going to be installed\n",
            "                       Depends: g++-6 but it is not going to be installed or\n",
            "                                clang-4.0 but it is not going to be installed or\n",
            "                                clang-3.9 but it is not going to be installed or\n",
            "                                clang-3.8 but it is not installable or\n",
            "                                clang (< 1:5~) but 1:6.0-41~exp5~ubuntu1 is to be installed or\n",
            "                                g++-5 but it is not going to be installed or\n",
            "                                g++-4.9 but it is not installable or\n",
            "                                g++-4.8 but it is not going to be installed\n",
            "                       Depends: libnvvm3 (>= 7.0) but it is not going to be installed\n",
            "                       Recommends: nvidia-cuda-doc (= 9.1.85-3ubuntu1) but it is not going to be installed\n",
            "                       Recommends: nvidia-cuda-gdb (= 9.1.85-3ubuntu1) but it is not going to be installed\n",
            "                       Recommends: nvidia-visual-profiler (= 9.1.85-3ubuntu1) but it is not going to be installed\n",
            " nvidia-utils-440 : Depends: libnvidia-compute-440 but it is not going to be installed\n",
            "E: Unmet dependencies. Try 'apt --fix-broken install' with no packages (or specify a solution).\n"
          ],
          "name": "stdout"
        }
      ]
    },
    {
      "cell_type": "code",
      "metadata": {
        "id": "evxzc04GGqH3",
        "colab_type": "code",
        "outputId": "fc8f5e28-7a21-43eb-b42d-cdd771e74328",
        "colab": {
          "base_uri": "https://localhost:8080/",
          "height": 85
        }
      },
      "source": [
        "!nvcc --version"
      ],
      "execution_count": 10,
      "outputs": [
        {
          "output_type": "stream",
          "text": [
            "nvcc: NVIDIA (R) Cuda compiler driver\n",
            "Copyright (c) 2005-2019 NVIDIA Corporation\n",
            "Built on Sun_Jul_28_19:07:16_PDT_2019\n",
            "Cuda compilation tools, release 10.1, V10.1.243\n"
          ],
          "name": "stdout"
        }
      ]
    },
    {
      "cell_type": "markdown",
      "metadata": {
        "id": "mhD0p6aQHgPR",
        "colab_type": "text"
      },
      "source": [
        "# Link our Compilers to CUDA "
      ]
    },
    {
      "cell_type": "code",
      "metadata": {
        "id": "byTunTSUHO0N",
        "colab_type": "code",
        "colab": {}
      },
      "source": [
        "! ln -s /usr/bin/gcc-6 /usr/local/cuda/bin/gcc\n",
        "! ln -s /usr/bin/g++-6 /usr/local/cuda/bin/g++"
      ],
      "execution_count": 0,
      "outputs": []
    },
    {
      "cell_type": "code",
      "metadata": {
        "colab_type": "code",
        "id": "ZJIAuslYX_OQ",
        "colab": {
          "base_uri": "https://localhost:8080/",
          "height": 51
        },
        "outputId": "afa9506b-2416-4230-e542-c6e30a8fdf36"
      },
      "source": [
        "! ln -s /usr/bin/gcc-6 /usr/local/cuda/bin/gcc\n",
        "! ln -s /usr/bin/g++-6 /usr/local/cuda/bin/g++"
      ],
      "execution_count": 12,
      "outputs": [
        {
          "output_type": "stream",
          "text": [
            "ln: failed to create symbolic link '/usr/local/cuda/bin/gcc': File exists\n",
            "ln: failed to create symbolic link '/usr/local/cuda/bin/g++': File exists\n"
          ],
          "name": "stdout"
        }
      ]
    },
    {
      "cell_type": "markdown",
      "metadata": {
        "colab_type": "text",
        "id": "AtutLZalLjXi"
      },
      "source": [
        "# Install Julia"
      ]
    },
    {
      "cell_type": "markdown",
      "metadata": {
        "id": "fnKbaB9yYV1L",
        "colab_type": "text"
      },
      "source": [
        "Si ça ne marche pas, check https://www.youtube.com/watch?v=xpZo3L2dYTY\n",
        "\n",
        "Si la version de Julia change, il faut changer les paramètres dans le fichier Python!"
      ]
    },
    {
      "cell_type": "code",
      "metadata": {
        "colab_type": "code",
        "outputId": "ff35f977-1655-4532-bb75-72249a23c6a9",
        "id": "R4gYwY1DLjXl",
        "colab": {
          "base_uri": "https://localhost:8080/",
          "height": 1000
        }
      },
      "source": [
        "!curl -sSL \"https://julialang-s3.julialang.org/bin/linux/x64/1.4/julia-1.4.2-linux-x86_64.tar.gz\" -o julia.tar.gz\n",
        "!tar -xzf julia.tar.gz -C /usr --strip-components 1\n",
        "!rm -rf julia.tar.gz*\n",
        "!julia -e 'using Pkg; pkg\"add IJulia; add CuArrays; add Flux; precompile\"'"
      ],
      "execution_count": 13,
      "outputs": [
        {
          "output_type": "stream",
          "text": [
            "    Cloning default registries into `~/.julia`\n",
            "    Cloning registry from \"https://github.com/JuliaRegistries/General.git\"\n",
            "\u001b[2K\u001b[?25h      Added registry `General` to `~/.julia/registries/General`\n",
            "  Resolving package versions...\n",
            "  Installed ZeroMQ_jll ────── v4.3.2+4\n",
            "  Installed VersionParsing ── v1.2.0\n",
            "  Installed MbedTLS_jll ───── v2.16.0+2\n",
            "  Installed SoftGlobalScope ─ v1.0.10\n",
            "  Installed Parsers ───────── v1.0.5\n",
            "  Installed Conda ─────────── v1.4.1\n",
            "  Installed JSON ──────────── v0.21.0\n",
            "  Installed IJulia ────────── v1.21.2\n",
            "  Installed ZMQ ───────────── v1.2.1\n",
            "  Installed MbedTLS ───────── v1.0.2\n",
            "Downloading artifact: MbedTLS\n",
            "######################################################################## 100.0%\n",
            "\u001b[1A\u001b[2K\u001b[?25hDownloading artifact: ZeroMQ\n",
            "######################################################################## 100.0%\n",
            "\u001b[1A\u001b[2K\u001b[?25h   Updating `~/.julia/environments/v1.4/Project.toml`\n",
            "  [7073ff75] + IJulia v1.21.2\n",
            "   Updating `~/.julia/environments/v1.4/Manifest.toml`\n",
            "  [8f4d0f93] + Conda v1.4.1\n",
            "  [7073ff75] + IJulia v1.21.2\n",
            "  [682c06a0] + JSON v0.21.0\n",
            "  [739be429] + MbedTLS v1.0.2\n",
            "  [c8ffd9c3] + MbedTLS_jll v2.16.0+2\n",
            "  [69de0a69] + Parsers v1.0.5\n",
            "  [b85f4697] + SoftGlobalScope v1.0.10\n",
            "  [81def892] + VersionParsing v1.2.0\n",
            "  [c2297ded] + ZMQ v1.2.1\n",
            "  [8f1865be] + ZeroMQ_jll v4.3.2+4\n",
            "  [2a0f44e3] + Base64 \n",
            "  [ade2ca70] + Dates \n",
            "  [8ba89e20] + Distributed \n",
            "  [7b1f6079] + FileWatching \n",
            "  [b77e0a4c] + InteractiveUtils \n",
            "  [76f85450] + LibGit2 \n",
            "  [8f399da3] + Libdl \n",
            "  [56ddb016] + Logging \n",
            "  [d6f4376e] + Markdown \n",
            "  [a63ad114] + Mmap \n",
            "  [44cfe95a] + Pkg \n",
            "  [de0858da] + Printf \n",
            "  [3fa0cd96] + REPL \n",
            "  [9a3f8284] + Random \n",
            "  [ea8e919c] + SHA \n",
            "  [9e88b42a] + Serialization \n",
            "  [6462fe0b] + Sockets \n",
            "  [8dfed614] + Test \n",
            "  [cf7118a7] + UUIDs \n",
            "  [4ec0a83e] + Unicode \n",
            "   Building Conda ─→ `~/.julia/packages/Conda/3rPhK/deps/build.log`\n",
            "   Building IJulia → `~/.julia/packages/IJulia/DrVMH/deps/build.log`\n",
            "  Resolving package versions...\n",
            "  Installed BinaryProvider ───── v0.5.10\n",
            "  Installed TimerOutputs ─────── v0.5.6\n",
            "  Installed GPUCompiler ──────── v0.2.0\n",
            "  Installed CUDAapi ──────────── v4.0.0\n",
            "  Installed DataStructures ───── v0.17.17\n",
            "  Installed Adapt ────────────── v1.1.0\n",
            "  Installed CUDAdrv ──────────── v6.3.0\n",
            "  Installed CuArrays ─────────── v2.2.0\n",
            "  Installed MacroTools ───────── v0.5.5\n",
            "  Installed OrderedCollections ─ v1.2.0\n",
            "  Installed ExprTools ────────── v0.1.1\n",
            "  Installed Reexport ─────────── v0.2.0\n",
            "  Installed CEnum ────────────── v0.3.0\n",
            "  Installed NNlib ────────────── v0.6.6\n",
            "  Installed Cthulhu ──────────── v1.1.1\n",
            "  Installed CodeTracking ─────── v0.5.11\n",
            "  Installed AbstractFFTs ─────── v0.5.0\n",
            "  Installed LLVM ─────────────── v1.5.1\n",
            "  Installed CUDAnative ───────── v3.1.0\n",
            "  Installed GPUArrays ────────── v3.4.1\n",
            "  Installed Requires ─────────── v1.0.1\n",
            "   Updating `~/.julia/environments/v1.4/Project.toml`\n",
            "  [3a865a2d] + CuArrays v2.2.0\n",
            "   Updating `~/.julia/environments/v1.4/Manifest.toml`\n",
            "  [621f4979] + AbstractFFTs v0.5.0\n",
            "  [79e6a3ab] + Adapt v1.1.0\n",
            "  [b99e7846] + BinaryProvider v0.5.10\n",
            "  [fa961155] + CEnum v0.3.0\n",
            "  [3895d2a7] + CUDAapi v4.0.0\n",
            "  [c5f51814] + CUDAdrv v6.3.0\n",
            "  [be33ccc6] + CUDAnative v3.1.0\n",
            "  [da1fd8a2] + CodeTracking v0.5.11\n",
            "  [f68482b8] + Cthulhu v1.1.1\n",
            "  [3a865a2d] + CuArrays v2.2.0\n",
            "  [864edb3b] + DataStructures v0.17.17\n",
            "  [e2ba6199] + ExprTools v0.1.1\n",
            "  [0c68f7d7] + GPUArrays v3.4.1\n",
            "  [61eb1bfa] + GPUCompiler v0.2.0\n",
            "  [929cbde3] + LLVM v1.5.1\n",
            "  [1914dd2f] + MacroTools v0.5.5\n",
            "  [872c559c] + NNlib v0.6.6\n",
            "  [bac558e1] + OrderedCollections v1.2.0\n",
            "  [189a3867] + Reexport v0.2.0\n",
            "  [ae029012] + Requires v1.0.1\n",
            "  [a759f4b9] + TimerOutputs v0.5.6\n",
            "  [37e2e46d] + LinearAlgebra \n",
            "  [2f01184e] + SparseArrays \n",
            "  [10745b16] + Statistics \n",
            "   Building NNlib → `~/.julia/packages/NNlib/FAI3o/deps/build.log`\n",
            "  Resolving package versions...\n",
            "  Installed DataAPI ────────────────────── v1.3.0\n",
            "  Installed CodecZlib ──────────────────── v0.7.0\n",
            "  Installed OpenSpecFun_jll ────────────── v0.5.3+3\n",
            "  Installed Juno ───────────────────────── v0.8.2\n",
            "  Installed DiffResults ────────────────── v1.0.2\n",
            "  Installed Flux ───────────────────────── v0.10.4\n",
            "  Installed ForwardDiff ────────────────── v0.10.10\n",
            "  Installed StatsBase ──────────────────── v0.33.0\n",
            "  Installed SortingAlgorithms ──────────── v0.3.1\n",
            "  Installed Zygote ─────────────────────── v0.4.20\n",
            "  Installed AbstractTrees ──────────────── v0.3.3\n",
            "  Installed ArrayLayouts ───────────────── v0.2.6\n",
            "  Installed ZipFile ────────────────────── v0.9.2\n",
            "  Installed FillArrays ─────────────────── v0.8.10\n",
            "  Installed Colors ─────────────────────── v0.12.1\n",
            "  Installed FixedPointNumbers ──────────── v0.8.0\n",
            "  Installed CompilerSupportLibraries_jll ─ v0.3.3+0\n",
            "  Installed NaNMath ────────────────────── v0.3.3\n",
            "  Installed Missings ───────────────────── v0.4.3\n",
            "  Installed Zlib_jll ───────────────────── v1.2.11+10\n",
            "  Installed TranscodingStreams ─────────── v0.9.5\n",
            "  Installed DiffRules ──────────────────── v1.0.1\n",
            "  Installed IRTools ────────────────────── v0.3.3\n",
            "  Installed StaticArrays ───────────────── v0.12.3\n",
            "  Installed ZygoteRules ────────────────── v0.2.0\n",
            "  Installed Media ──────────────────────── v0.5.0\n",
            "  Installed SpecialFunctions ───────────── v0.10.3\n",
            "  Installed CommonSubexpressions ───────── v0.2.0\n",
            "  Installed ColorTypes ─────────────────── v0.10.3\n",
            "Downloading artifact: OpenSpecFun\n",
            "######################################################################## 100.0%\n",
            "\u001b[1A\u001b[2K\u001b[?25hDownloading artifact: CompilerSupportLibraries\n",
            "######################################################################## 100.0%\n",
            "\u001b[1A\u001b[2K\u001b[?25hDownloading artifact: Zlib\n",
            "######################################################################## 100.0%\n",
            "\u001b[1A\u001b[2K\u001b[?25h   Updating `~/.julia/environments/v1.4/Project.toml`\n",
            "  [587475ba] + Flux v0.10.4\n",
            "   Updating `~/.julia/environments/v1.4/Manifest.toml`\n",
            "  [1520ce14] + AbstractTrees v0.3.3\n",
            "  [4c555306] + ArrayLayouts v0.2.6\n",
            "  [944b1d66] + CodecZlib v0.7.0\n",
            "  [3da002f7] + ColorTypes v0.10.3\n",
            "  [5ae59095] + Colors v0.12.1\n",
            "  [bbf7d656] + CommonSubexpressions v0.2.0\n",
            "  [e66e0078] + CompilerSupportLibraries_jll v0.3.3+0\n",
            "  [9a962f9c] + DataAPI v1.3.0\n",
            "  [163ba53b] + DiffResults v1.0.2\n",
            "  [b552c78f] + DiffRules v1.0.1\n",
            "  [1a297f60] + FillArrays v0.8.10\n",
            "  [53c48c17] + FixedPointNumbers v0.8.0\n",
            "  [587475ba] + Flux v0.10.4\n",
            "  [f6369f11] + ForwardDiff v0.10.10\n",
            "  [7869d1d1] + IRTools v0.3.3\n",
            "  [e5e0dc1b] + Juno v0.8.2\n",
            "  [e89f7d12] + Media v0.5.0\n",
            "  [e1d29d7a] + Missings v0.4.3\n",
            "  [77ba4419] + NaNMath v0.3.3\n",
            "  [efe28fd5] + OpenSpecFun_jll v0.5.3+3\n",
            "  [a2af1166] + SortingAlgorithms v0.3.1\n",
            "  [276daf66] + SpecialFunctions v0.10.3\n",
            "  [90137ffa] + StaticArrays v0.12.3\n",
            "  [2913bbd2] + StatsBase v0.33.0\n",
            "  [3bb67fe8] + TranscodingStreams v0.9.5\n",
            "  [a5390f91] + ZipFile v0.9.2\n",
            "  [83775a58] + Zlib_jll v1.2.11+10\n",
            "  [e88e6eb3] + Zygote v0.4.20\n",
            "  [700de1a5] + ZygoteRules v0.2.0\n",
            "  [8bb1440f] + DelimitedFiles \n",
            "  [9fa8497b] + Future \n",
            "  [9abbd945] + Profile \n",
            "Precompiling project...\n"
          ],
          "name": "stdout"
        }
      ]
    },
    {
      "cell_type": "code",
      "metadata": {
        "id": "JGgVu3KRQWyw",
        "colab_type": "code",
        "outputId": "1e5b8cda-5cd1-44d5-f599-b27c6a31688e",
        "colab": {
          "base_uri": "https://localhost:8080/",
          "height": 153
        }
      },
      "source": [
        "versioninfo()"
      ],
      "execution_count": 1,
      "outputs": [
        {
          "output_type": "stream",
          "text": [
            "Julia Version 1.4.2\n",
            "Commit 44fa15b150* (2020-05-23 18:35 UTC)\n",
            "Platform Info:\n",
            "  OS: Linux (x86_64-pc-linux-gnu)\n",
            "  CPU: Intel(R) Xeon(R) CPU @ 2.00GHz\n",
            "  WORD_SIZE: 64\n",
            "  LIBM: libopenlibm\n",
            "  LLVM: libLLVM-8.0.1 (ORCJIT, skylake)\n"
          ],
          "name": "stdout"
        }
      ]
    },
    {
      "cell_type": "markdown",
      "metadata": {
        "colab_type": "text",
        "id": "_lErbhVqX_ON"
      },
      "source": [
        "# Start Julia Project"
      ]
    },
    {
      "cell_type": "code",
      "metadata": {
        "id": "pY9tFv9uYO75",
        "colab_type": "code",
        "colab": {}
      },
      "source": [
        "using Pkg"
      ],
      "execution_count": 0,
      "outputs": []
    },
    {
      "cell_type": "code",
      "metadata": {
        "id": "h7zeRKZW3rF-",
        "colab_type": "code",
        "colab": {
          "base_uri": "https://localhost:8080/",
          "height": 544
        },
        "outputId": "1c566421-704c-4cfc-f775-8bb0bfb2e400"
      },
      "source": [
        "Pkg.add(\"CSV\")"
      ],
      "execution_count": 5,
      "outputs": [
        {
          "output_type": "stream",
          "text": [
            "\u001b[32m\u001b[1m   Updating\u001b[22m\u001b[39m registry at `~/.julia/registries/General`\n"
          ],
          "name": "stderr"
        },
        {
          "output_type": "stream",
          "text": [
            "\u001b[?25l\u001b[2K"
          ],
          "name": "stdout"
        },
        {
          "output_type": "stream",
          "text": [
            "\u001b[32m\u001b[1m   Updating\u001b[22m\u001b[39m git-repo `https://github.com/JuliaRegistries/General.git`\n"
          ],
          "name": "stderr"
        },
        {
          "output_type": "stream",
          "text": [
            "\u001b[?25h"
          ],
          "name": "stdout"
        },
        {
          "output_type": "stream",
          "text": [
            "\u001b[32m\u001b[1m  Resolving\u001b[22m\u001b[39m package versions...\n",
            "\u001b[32m\u001b[1m  Installed\u001b[22m\u001b[39m PooledArrays ──────────────── v0.5.3\n",
            "\u001b[32m\u001b[1m  Installed\u001b[22m\u001b[39m DataValueInterfaces ───────── v1.0.0\n",
            "\u001b[32m\u001b[1m  Installed\u001b[22m\u001b[39m IteratorInterfaceExtensions ─ v1.0.0\n",
            "\u001b[32m\u001b[1m  Installed\u001b[22m\u001b[39m TableTraits ───────────────── v1.0.0\n",
            "\u001b[32m\u001b[1m  Installed\u001b[22m\u001b[39m Tables ────────────────────── v1.0.4\n",
            "\u001b[32m\u001b[1m  Installed\u001b[22m\u001b[39m CategoricalArrays ─────────── v0.8.1\n",
            "\u001b[32m\u001b[1m  Installed\u001b[22m\u001b[39m DataFrames ────────────────── v0.21.2\n",
            "\u001b[32m\u001b[1m  Installed\u001b[22m\u001b[39m InvertedIndices ───────────── v1.0.0\n",
            "\u001b[32m\u001b[1m  Installed\u001b[22m\u001b[39m WeakRefStrings ────────────── v0.6.2\n",
            "\u001b[32m\u001b[1m  Installed\u001b[22m\u001b[39m FilePathsBase ─────────────── v0.8.0\n",
            "\u001b[32m\u001b[1m  Installed\u001b[22m\u001b[39m Compat ────────────────────── v3.10.0\n",
            "\u001b[32m\u001b[1m  Installed\u001b[22m\u001b[39m CSV ───────────────────────── v0.6.2\n",
            "\u001b[32m\u001b[1m   Updating\u001b[22m\u001b[39m `~/.julia/environments/v1.4/Project.toml`\n",
            " \u001b[90m [336ed68f]\u001b[39m\u001b[92m + CSV v0.6.2\u001b[39m\n",
            "\u001b[32m\u001b[1m   Updating\u001b[22m\u001b[39m `~/.julia/environments/v1.4/Manifest.toml`\n",
            " \u001b[90m [336ed68f]\u001b[39m\u001b[92m + CSV v0.6.2\u001b[39m\n",
            " \u001b[90m [324d7699]\u001b[39m\u001b[92m + CategoricalArrays v0.8.1\u001b[39m\n",
            " \u001b[90m [34da2185]\u001b[39m\u001b[92m + Compat v3.10.0\u001b[39m\n",
            " \u001b[90m [a93c6f00]\u001b[39m\u001b[92m + DataFrames v0.21.2\u001b[39m\n",
            " \u001b[90m [e2d170a0]\u001b[39m\u001b[92m + DataValueInterfaces v1.0.0\u001b[39m\n",
            " \u001b[90m [48062228]\u001b[39m\u001b[92m + FilePathsBase v0.8.0\u001b[39m\n",
            " \u001b[90m [41ab1584]\u001b[39m\u001b[92m + InvertedIndices v1.0.0\u001b[39m\n",
            " \u001b[90m [82899510]\u001b[39m\u001b[92m + IteratorInterfaceExtensions v1.0.0\u001b[39m\n",
            " \u001b[90m [2dfb63ee]\u001b[39m\u001b[92m + PooledArrays v0.5.3\u001b[39m\n",
            " \u001b[90m [3783bdb8]\u001b[39m\u001b[92m + TableTraits v1.0.0\u001b[39m\n",
            " \u001b[90m [bd369af6]\u001b[39m\u001b[92m + Tables v1.0.4\u001b[39m\n",
            " \u001b[90m [ea10d353]\u001b[39m\u001b[92m + WeakRefStrings v0.6.2\u001b[39m\n",
            " \u001b[90m [1a1011a3]\u001b[39m\u001b[92m + SharedArrays \u001b[39m\n"
          ],
          "name": "stderr"
        }
      ]
    },
    {
      "cell_type": "code",
      "metadata": {
        "id": "61bJztS34Sjk",
        "colab_type": "code",
        "colab": {
          "base_uri": "https://localhost:8080/",
          "height": 102
        },
        "outputId": "676d6b58-f67e-453a-a58c-539eb65fa2a4"
      },
      "source": [
        "Pkg.add(\"DataFrames\")"
      ],
      "execution_count": 6,
      "outputs": [
        {
          "output_type": "stream",
          "text": [
            "\u001b[32m\u001b[1m  Resolving\u001b[22m\u001b[39m package versions...\n",
            "\u001b[32m\u001b[1m   Updating\u001b[22m\u001b[39m `~/.julia/environments/v1.4/Project.toml`\n",
            " \u001b[90m [a93c6f00]\u001b[39m\u001b[92m + DataFrames v0.21.2\u001b[39m\n",
            "\u001b[32m\u001b[1m   Updating\u001b[22m\u001b[39m `~/.julia/environments/v1.4/Manifest.toml`\n",
            "\u001b[90m [no changes]\u001b[39m\n"
          ],
          "name": "stderr"
        }
      ]
    },
    {
      "cell_type": "code",
      "metadata": {
        "id": "Qgu27vzV4Zkk",
        "colab_type": "code",
        "colab": {
          "base_uri": "https://localhost:8080/",
          "height": 119
        },
        "outputId": "56f84026-46ce-458d-db21-19169fa6cd13"
      },
      "source": [
        "Pkg.status()"
      ],
      "execution_count": 9,
      "outputs": [
        {
          "output_type": "stream",
          "text": [
            "\u001b[32m\u001b[1mStatus\u001b[22m\u001b[39m `~/.julia/environments/v1.4/Project.toml`\n",
            " \u001b[90m [336ed68f]\u001b[39m\u001b[37m CSV v0.6.2\u001b[39m\n",
            " \u001b[90m [3a865a2d]\u001b[39m\u001b[37m CuArrays v2.2.0\u001b[39m\n",
            " \u001b[90m [a93c6f00]\u001b[39m\u001b[37m DataFrames v0.21.2\u001b[39m\n",
            " \u001b[90m [587475ba]\u001b[39m\u001b[37m Flux v0.10.4\u001b[39m\n",
            " \u001b[90m [7073ff75]\u001b[39m\u001b[37m IJulia v1.21.2\u001b[39m\n"
          ],
          "name": "stdout"
        }
      ]
    },
    {
      "cell_type": "code",
      "metadata": {
        "id": "VqeIwzaD7mMy",
        "colab_type": "code",
        "colab": {
          "base_uri": "https://localhost:8080/",
          "height": 51
        },
        "outputId": "9041c0bf-6f04-45e2-a3ff-d9e7068d9baa"
      },
      "source": [
        "using CSV\n",
        "using DataFrames"
      ],
      "execution_count": 17,
      "outputs": [
        {
          "output_type": "stream",
          "text": [
            "┌ Info: Precompiling CSV [336ed68f-0bac-5ca0-87d4-7b16caf5d00b]\n",
            "└ @ Base loading.jl:1260\n"
          ],
          "name": "stderr"
        }
      ]
    },
    {
      "cell_type": "code",
      "metadata": {
        "id": "KAbrpZjW4k0z",
        "colab_type": "code",
        "colab": {
          "base_uri": "https://localhost:8080/",
          "height": 34
        },
        "outputId": "f744ef9c-f1aa-4e34-ac6c-2a0283df573e"
      },
      "source": [
        "download(\"https://drive.google.com/file/d/1DeyA0b0R99mUf00JR53xvd6ttMFOttwK/view?usp=sharing\", \"data.csv\")"
      ],
      "execution_count": 13,
      "outputs": [
        {
          "output_type": "execute_result",
          "data": {
            "text/plain": [
              "\"data.csv\""
            ]
          },
          "metadata": {
            "tags": []
          },
          "execution_count": 13
        }
      ]
    },
    {
      "cell_type": "code",
      "metadata": {
        "id": "RLaTZtZU8PKx",
        "colab_type": "code",
        "colab": {
          "base_uri": "https://localhost:8080/",
          "height": 496
        },
        "outputId": "f1d909eb-f215-41a5-f461-3a3c23dc9c25"
      },
      "source": [
        "readlines(\"data.csv\")"
      ],
      "execution_count": 20,
      "outputs": [
        {
          "output_type": "execute_result",
          "data": {
            "text/plain": [
              "1514-element Array{String,1}:\n",
              " \"\"\n",
              " \"<!DOCTYPE html>\"\n",
              " \"<html lang=\\\"en\\\">\"\n",
              " \"  <head>\"\n",
              " \"  <meta charset=\\\"utf-8\\\">\"\n",
              " \"  <meta content=\\\"width=300, initial-scale=1\\\" name=\\\"viewport\\\">\"\n",
              " \"  <meta name=\\\"description\\\" content=\\\"Google Drive is a free way to keep your files backed up and easy to reach from any phone, tablet, or computer. Start with 15GB of Google storage – free.\\\">\"\n",
              " \"  <meta name=\\\"google-site-verification\\\" content=\\\"LrdTUW9psUAMbh4Ia074-BPEVmcpBxF6Gwf0MSgQXZs\\\">\"\n",
              " \"  <title>Meet Google Drive – One place for all your files</title>\"\n",
              " \"  <style>\"\n",
              " \"  @font-face {\"\n",
              " \"  font-family: 'Open Sans';\"\n",
              " \"  font-style: normal;\"\n",
              " ⋮\n",
              " \"  <script nonce=\\\"x07UPNuYVMxazQIzvjfMMQ\\\">var e=this,g=function(b,c){b=b.split(\\\".\\\");var a=e;b[0]in a||!a.execScript||a.execScript(\\\"var \\\"+b[0]);for(var d;b.length&&(d=b.shift());)b.length||void 0===c?a[d]?a=a[d]:a=a[d]={}:a[d]=c};var h=function(){try{return new XMLHttpRequest}catch(a){for(var b=[\\\"MSXML2.XMLHTTP.6.0\\\",\\\"MSXML2.XMLHTTP.3.0\\\",\\\"MSXML2.XMLHTTP\\\",\\\"Microsoft.XMLHTTP\\\"],c=0;c<b.length;c++)try{return new ActiveXObject(b[c])}catch(d){}}return null};g(\\\"gaia.ajax.newXmlHttpRequest\\\",h);var k=function(){this.a=h();this.parameters={}};g(\\\"gaia.ajax.XmlHttpFormRequest\\\",k);\"\n",
              " \"k.prototype.send=function(b,c){var a=[],d;for(d in this.parameters)a.push(d+\\\"=\\\"+encodeURIComponent(this.parameters[d]));a=a.join(\\\"&\\\");var f=this.a;f.open(\\\"POST\\\",b,!0);f.setRequestHeader(\\\"Content-type\\\",\\\"application/x-www-form-urlencoded\\\");f.onreadystatechange=function(){4==f.readyState&&c({status:f.status,text:f.responseText})};f.send(a)};k.prototype.send=k.prototype.send;\"\n",
              " \"k.prototype.h=function(b,c,a){var d=this.a;d.open(\\\"POST\\\",b,!0);d.setRequestHeader(\\\"Content-type\\\",\\\"application/json\\\");d.onreadystatechange=function(){4==d.readyState&&a({status:d.status,text:d.responseText})};d.send(c)};k.prototype.sendJson=k.prototype.h;k.prototype.get=function(b,c){var a=this.a;a.open(\\\"GET\\\",b,!0);a.onreadystatechange=function(){4==a.readyState&&c({status:a.status,text:a.responseText})};a.send()};k.prototype.get=k.prototype.get;var l=/\\\\s*;\\\\s*/,m=function(){if(!document.cookie)return\\\"\\\";for(var b=document.cookie.split(l),c=0;c<b.length;c++){var a=b[c];a=a.replace(/^\\\\s+/,\\\"\\\");a=a.replace(/\\\\s+\\$/,\\\"\\\");if(0==a.indexOf(\\\"APISID=\\\"))return a.substr(7)}return\\\"\\\"};var n=null,p=function(b,c){this.g=b;this.f=c;this.c=m();this.b=!1},q=function(){var b=n,c=m();c==b.c||b.b||(b.c=c,(new k).get(b.f,function(a){var d=n;a&&a.status&&200==a.status&&\\\"OK\\\"==a.text&&(d.a&&clearInterval(d.a),d.b||(window.location=d.g))}))};p.prototype.start=function(b){if(this.a)return!1;this.a=setInterval(function(){q()},b);return!0};g(\\\"gaia.loginAutoRedirect.start\\\",function(b,c,a){if(n||!a||!c||0>=b)return!1;n=new p(c,a);return n.start(b)});\"\n",
              " \"g(\\\"gaia.loginAutoRedirect.stop\\\",function(){var b=n;b.b=!0;b.a&&(clearInterval(b.a),b.a=null)});\"\n",
              " \"</script>\"\n",
              " \"  <script type=\\\"text/javascript\\\" nonce=\\\"x07UPNuYVMxazQIzvjfMMQ\\\">\"\n",
              " \"  gaia.loginAutoRedirect.start(5000,\"\n",
              " \"  'https:\\\\x2F\\\\x2Faccounts.google.com\\\\x2FServiceLogin?continue=https%3A%2F%2Fdrive.google.com%2Ffile%2Fd%2F1DeyA0b0R99mUf00JR53xvd6ttMFOttwK%2Fview%3Fusp%3Dsharing\\\\x26followup=https%3A%2F%2Fdrive.google.com%2Ffile%2Fd%2F1DeyA0b0R99mUf00JR53xvd6ttMFOttwK%2Fview%3Fusp%3Dsharing\\\\x26service=wise\\\\x26passive=1209600\\\\x26noautologin=true',\"\n",
              " \"  'https:\\\\x2F\\\\x2Faccounts.google.com\\\\x2FPassiveLoginProber?continue=https%3A%2F%2Fdrive.google.com%2Ffile%2Fd%2F1DeyA0b0R99mUf00JR53xvd6ttMFOttwK%2Fview%3Fusp%3Dsharing\\\\x26followup=https%3A%2F%2Fdrive.google.com%2Ffile%2Fd%2F1DeyA0b0R99mUf00JR53xvd6ttMFOttwK%2Fview%3Fusp%3Dsharing\\\\x26service=wise\\\\x26passive=1209600');\"\n",
              " \"  </script>\"\n",
              " \"  </body>\"\n",
              " \"</html>\""
            ]
          },
          "metadata": {
            "tags": []
          },
          "execution_count": 20
        }
      ]
    },
    {
      "cell_type": "code",
      "metadata": {
        "id": "gpawlZyG5mVw",
        "colab_type": "code",
        "colab": {
          "base_uri": "https://localhost:8080/",
          "height": 1000
        },
        "outputId": "51e91d4f-94e4-45bd-8fd4-7c3c744ef840"
      },
      "source": [
        "data = CSV.File(\"data.csv\") |> DataFrame"
      ],
      "execution_count": 19,
      "outputs": [
        {
          "output_type": "stream",
          "text": [
            "thread = 1 warning: parsed expected 1 columns, but didn't reach end of line on data row: 5. Ignoring any extra columns on this row\n",
            "thread = 1 warning: parsed expected 1 columns, but didn't reach end of line on data row: 121. Ignoring any extra columns on this row\n",
            "thread = 1 warning: parsed expected 1 columns, but didn't reach end of line on data row: 123. Ignoring any extra columns on this row\n",
            "thread = 1 warning: parsed expected 1 columns, but didn't reach end of line on data row: 125. Ignoring any extra columns on this row\n",
            "thread = 1 warning: parsed expected 1 columns, but didn't reach end of line on data row: 131. Ignoring any extra columns on this row\n",
            "thread = 1 warning: parsed expected 1 columns, but didn't reach end of line on data row: 132. Ignoring any extra columns on this row\n",
            "thread = 1 warning: parsed expected 1 columns, but didn't reach end of line on data row: 134. Ignoring any extra columns on this row\n",
            "thread = 1 warning: parsed expected 1 columns, but didn't reach end of line on data row: 137. Ignoring any extra columns on this row\n",
            "thread = 1 warning: parsed expected 1 columns, but didn't reach end of line on data row: 197. Ignoring any extra columns on this row\n",
            "thread = 1 warning: parsed expected 1 columns, but didn't reach end of line on data row: 228. Ignoring any extra columns on this row\n",
            "thread = 1 warning: parsed expected 1 columns, but didn't reach end of line on data row: 233. Ignoring any extra columns on this row\n",
            "thread = 1 warning: parsed expected 1 columns, but didn't reach end of line on data row: 234. Ignoring any extra columns on this row\n",
            "thread = 1 warning: parsed expected 1 columns, but didn't reach end of line on data row: 235. Ignoring any extra columns on this row\n",
            "thread = 1 warning: parsed expected 1 columns, but didn't reach end of line on data row: 236. Ignoring any extra columns on this row\n",
            "thread = 1 warning: parsed expected 1 columns, but didn't reach end of line on data row: 239. Ignoring any extra columns on this row\n",
            "thread = 1 warning: parsed expected 1 columns, but didn't reach end of line on data row: 240. Ignoring any extra columns on this row\n"
          ],
          "name": "stdout"
        },
        {
          "output_type": "execute_result",
          "data": {
            "text/latex": "\\begin{tabular}{r|c}\n\t& Column1\\\\\n\t\\hline\n\t& String?\\\\\n\t\\hline\n\t1 & <!DOCTYPE html> \\\\\n\t2 & <html lang=\"en\"> \\\\\n\t3 &   <head> \\\\\n\t4 &   <meta charset=\"utf-8\"> \\\\\n\t5 &   <meta content=\"width=300 \\\\\n\t6 &    \\\\\n\t7 &    \\\\\n\t8 &     no-name \\\\\n\t9 &    \\\\\n\t10 &    \\\\\n\t11 &    \\\\\n\t12 & >\\textbackslash{}n<div class= \\\\\n\t13 &    \\\\\n\t14 &     pre-shift \\\\\n\t15 &    \\\\\n\t16 &    \\\\\n\t17 &    \\\\\n\t18 &    no-name\"> \\\\\n\t19 &   <img class=\"circle-mask\" \\\\\n\t20 &        \\\\\n\t21 &          \\\\\n\t22 &           src=\"https://ssl.gstatic.com/accounts/ui/avatar\\_2x.png\" \\\\\n\t23 &          \\\\\n\t24 &       > \\\\\n\t25 &   <form novalidate method=\"post\" action=\"https://accounts.google.com/signin/v1/lookup\" id=\"gaia\\_loginform\"> \\\\\n\t26 &   <input name=\"Page\" type=\"hidden\" value=\"PasswordSeparationSignIn\"> \\\\\n\t27 &   <input type=\"hidden\" name=\"\" value=\"\"> \\\\\n\t28 &   <input type=\"hidden\" name=\"gxf\" value=\"AFoagUWwEd7uPPmxfD3y0mhSH\\_RuDJosiw:1591552437929\"> \\\\\n\t29 &   <input type=\"hidden\" name=\"continue\" value=\"https://drive.google.com/file/d/1DeyA0b0R99mUf00JR53xvd6ttMFOttwK/view?usp=sharing\"> \\\\\n\t30 &   <input type=\"hidden\" name=\"followup\" value=\"https://drive.google.com/file/d/1DeyA0b0R99mUf00JR53xvd6ttMFOttwK/view?usp=sharing\"> \\\\\n\t$\\dots$ & $\\dots$ \\\\\n\\end{tabular}\n",
            "text/html": [
              "<table class=\"data-frame\"><thead><tr><th></th><th>Column1</th></tr><tr><th></th><th>String?</th></tr></thead><tbody><p>244 rows × 1 columns</p><tr><th>1</th><td>&lt;!DOCTYPE html&gt;</td></tr><tr><th>2</th><td>&lt;html lang=\"en\"&gt;</td></tr><tr><th>3</th><td>  &lt;head&gt;</td></tr><tr><th>4</th><td>  &lt;meta charset=\"utf-8\"&gt;</td></tr><tr><th>5</th><td>  &lt;meta content=\"width=300</td></tr><tr><th>6</th><td>  </td></tr><tr><th>7</th><td>  </td></tr><tr><th>8</th><td>    no-name</td></tr><tr><th>9</th><td>  </td></tr><tr><th>10</th><td>  </td></tr><tr><th>11</th><td>  </td></tr><tr><th>12</th><td>&gt;\\n&lt;div class=</td></tr><tr><th>13</th><td>  </td></tr><tr><th>14</th><td>    pre-shift</td></tr><tr><th>15</th><td>  </td></tr><tr><th>16</th><td>  </td></tr><tr><th>17</th><td>  </td></tr><tr><th>18</th><td>   no-name\"&gt;</td></tr><tr><th>19</th><td>  &lt;img class=\"circle-mask\"</td></tr><tr><th>20</th><td>      </td></tr><tr><th>21</th><td>        </td></tr><tr><th>22</th><td>          src=\"https://ssl.gstatic.com/accounts/ui/avatar_2x.png\"</td></tr><tr><th>23</th><td>        </td></tr><tr><th>24</th><td>      &gt;</td></tr><tr><th>25</th><td>  &lt;form novalidate method=\"post\" action=\"https://accounts.google.com/signin/v1/lookup\" id=\"gaia_loginform\"&gt;</td></tr><tr><th>26</th><td>  &lt;input name=\"Page\" type=\"hidden\" value=\"PasswordSeparationSignIn\"&gt;</td></tr><tr><th>27</th><td>  &lt;input type=\"hidden\" name=\"\" value=\"\"&gt;</td></tr><tr><th>28</th><td>  &lt;input type=\"hidden\" name=\"gxf\" value=\"AFoagUWwEd7uPPmxfD3y0mhSH_RuDJosiw:1591552437929\"&gt;</td></tr><tr><th>29</th><td>  &lt;input type=\"hidden\" name=\"continue\" value=\"https://drive.google.com/file/d/1DeyA0b0R99mUf00JR53xvd6ttMFOttwK/view?usp=sharing\"&gt;</td></tr><tr><th>30</th><td>  &lt;input type=\"hidden\" name=\"followup\" value=\"https://drive.google.com/file/d/1DeyA0b0R99mUf00JR53xvd6ttMFOttwK/view?usp=sharing\"&gt;</td></tr><tr><th>&vellip;</th><td>&vellip;</td></tr></tbody></table>"
            ],
            "text/plain": [
              "244×1 DataFrame. Omitted printing of 1 columns\n",
              "│ Row │ │     │ ├─────┼\n",
              "│ 1   │ │ 2   │ │ 3   │ │ 4   │ │ 5   │ │ 6   │ │ 7   │ │ 8   │ │ 9   │ │ 10  │ \n",
              "⋮\n",
              "│ 234 │ │ 235 │ │ 236 │ │ 237 │ │ 238 │ │ 239 │ │ 240 │ │ 241 │ │ 242 │ │ 243 │ │ 244 │ "
            ]
          },
          "metadata": {
            "tags": []
          },
          "execution_count": 19
        }
      ]
    },
    {
      "cell_type": "code",
      "metadata": {
        "id": "CrfP322U60fM",
        "colab_type": "code",
        "colab": {}
      },
      "source": [
        ""
      ],
      "execution_count": 0,
      "outputs": []
    }
  ]
}